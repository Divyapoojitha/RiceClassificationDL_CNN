{
  "cells": [
    {
      "cell_type": "markdown",
      "metadata": {
        "id": "AQ9GKpbyN_19"
      },
      "source": [
        "## Understanding Data Statement\n",
        "-  Given a dataset containing 15,000 images each for each variety of rice among Arborio, Basmati, Ipsala, Jasmine and Karacadag it was asked to build and train a model based on the features like texture, shape, and color So that it can predict the variety of rice grain .\n",
        "-  CNN architectures that are being used here are  --- **Vanilla CNN**(A standard CNN architecture) ,  **VGG-16** (Feel free to use transfer learning)\n",
        "\n"
      ]
    },
    {
      "cell_type": "markdown",
      "metadata": {
        "id": "rRIcbZKz7y5q"
      },
      "source": [
        "### Extracting image folders from zip file placed in drive"
      ]
    },
    {
      "cell_type": "code",
      "execution_count": null,
      "metadata": {
        "colab": {
          "base_uri": "https://localhost:8080/"
        },
        "id": "NbP-hnwEs6KY",
        "outputId": "d9568231-1652-42b9-a45e-828f00c1e906"
      },
      "outputs": [
        {
          "output_type": "stream",
          "name": "stdout",
          "text": [
            "Drive already mounted at /content/drive; to attempt to forcibly remount, call drive.mount(\"/content/drive\", force_remount=True).\n"
          ]
        }
      ],
      "source": [
        "from google.colab import drive\n",
        "drive.mount('/content/drive',timeout_ms=300000)"
      ]
    },
    {
      "cell_type": "code",
      "execution_count": null,
      "metadata": {
        "id": "zdiOxNBSxrz6"
      },
      "outputs": [],
      "source": [
        "zip_path = '/content/drive/MyDrive/Rice_Image_Dataset/RCD.zip.zip'\n",
        "\n",
        "import zipfile\n",
        "\n",
        "with zipfile.ZipFile(zip_path, 'r') as zip_ref:\n",
        "    zip_ref.extractall('/content/rice_varieties')"
      ]
    },
    {
      "cell_type": "markdown",
      "metadata": {
        "id": "-_bXYyHswyUu"
      },
      "source": [
        "### Importing data"
      ]
    },
    {
      "cell_type": "code",
      "execution_count": null,
      "metadata": {
        "id": "Ntk64ISrMrBe"
      },
      "outputs": [],
      "source": [
        "import os\n",
        "import cv2\n",
        "import numpy as np\n",
        "import pandas as pd"
      ]
    },
    {
      "cell_type": "code",
      "execution_count": null,
      "metadata": {
        "id": "3ftClb-5MwXX"
      },
      "outputs": [],
      "source": [
        "dataset_folder = '/content/rice_varieties'"
      ]
    },
    {
      "cell_type": "code",
      "execution_count": null,
      "metadata": {
        "id": "-olPkW04M4Nf"
      },
      "outputs": [],
      "source": [
        "# List to store image paths and corresponding labels\n",
        "image_paths = []\n",
        "labels = []"
      ]
    },
    {
      "cell_type": "code",
      "execution_count": null,
      "metadata": {
        "id": "439NquizPHRI"
      },
      "outputs": [],
      "source": [
        "for variety_folder in os.listdir(dataset_folder):\n",
        "    variety_path = os.path.join(dataset_folder, variety_folder)\n",
        "\n",
        "    # Loop through each image in the variety folder\n",
        "    for image_file in os.listdir(variety_path):\n",
        "        image_path = os.path.join(variety_path, image_file)\n",
        "\n",
        "        # Use OpenCV to read the image\n",
        "        image = cv2.imread(image_path)\n",
        "\n",
        "        # Check if the image is successfully read\n",
        "        if image is not None:\n",
        "            # Resize the image\n",
        "            image = cv2.resize(image, (128, 128))\n",
        "\n",
        "            # Append the image path and label to the lists\n",
        "            image_paths.append(image_path)\n",
        "            labels.append(variety_folder)\n",
        "        else:\n",
        "            print(f\"Warning: Unable to read image at {image_path}\")"
      ]
    },
    {
      "cell_type": "code",
      "execution_count": null,
      "metadata": {
        "id": "3O4e7F2rNSpz"
      },
      "outputs": [],
      "source": [
        "# Create a DataFrame to store image paths and labels\n",
        "data = pd.DataFrame({'image_path': image_paths, 'label': labels})"
      ]
    },
    {
      "cell_type": "code",
      "execution_count": null,
      "metadata": {
        "colab": {
          "base_uri": "https://localhost:8080/"
        },
        "id": "jfLTwsMPNWro",
        "outputId": "ba376fb7-0cd1-4e04-be52-3eb830b7a22c"
      },
      "outputs": [
        {
          "output_type": "stream",
          "name": "stdout",
          "text": [
            "                                          image_path    label\n",
            "0  /content/rice_varieties/Basmati/basmati (12138...  Basmati\n",
            "1  /content/rice_varieties/Basmati/basmati (13943...  Basmati\n",
            "2  /content/rice_varieties/Basmati/basmati (9253)...  Basmati\n",
            "3  /content/rice_varieties/Basmati/basmati (10391...  Basmati\n",
            "4  /content/rice_varieties/Basmati/basmati (8208)...  Basmati\n"
          ]
        }
      ],
      "source": [
        "# Display the first few rows of the DataFrame\n",
        "print(data.head())"
      ]
    },
    {
      "cell_type": "code",
      "execution_count": null,
      "metadata": {
        "colab": {
          "base_uri": "https://localhost:8080/"
        },
        "id": "MNzazJdK31Uj",
        "outputId": "286757bc-f936-4842-b3b5-5dc1b6154d26"
      },
      "outputs": [
        {
          "output_type": "execute_result",
          "data": {
            "text/plain": [
              "(75000, 2)"
            ]
          },
          "metadata": {},
          "execution_count": 9
        }
      ],
      "source": [
        "data.shape"
      ]
    },
    {
      "cell_type": "code",
      "execution_count": null,
      "metadata": {
        "id": "eVx_TbCV3EJo"
      },
      "outputs": [],
      "source": [
        "import os\n",
        "import pandas as pd\n",
        "\n",
        "invalid_filenames = []\n",
        "\n",
        "for idx, row in data.iterrows():\n",
        "    image_path = row['image_path']\n",
        "    if not os.path.isfile(image_path):\n",
        "        invalid_filenames.append(image_path)"
      ]
    },
    {
      "cell_type": "code",
      "execution_count": null,
      "metadata": {
        "colab": {
          "base_uri": "https://localhost:8080/"
        },
        "id": "z-YRZwF83D-c",
        "outputId": "71382b0a-f0db-4a04-a27b-f1890c9c65c2"
      },
      "outputs": [
        {
          "output_type": "execute_result",
          "data": {
            "text/plain": [
              "0"
            ]
          },
          "metadata": {},
          "execution_count": 11
        }
      ],
      "source": [
        "len(invalid_filenames)"
      ]
    },
    {
      "cell_type": "markdown",
      "metadata": {
        "id": "MTotWqxt6gaj"
      },
      "source": [
        "## converting the dataset containing paths and labels into .csv and storing in drive"
      ]
    },
    {
      "cell_type": "code",
      "execution_count": null,
      "metadata": {
        "colab": {
          "base_uri": "https://localhost:8080/"
        },
        "id": "hMmSfP4YU4Mn",
        "outputId": "436ef30b-c82e-49c1-84b1-073f88639d50"
      },
      "outputs": [
        {
          "output_type": "stream",
          "name": "stdout",
          "text": [
            "Dataset saved to /content/riceImagePaths.csv\n"
          ]
        }
      ],
      "source": [
        "csv_path = '/content/riceImagePaths.csv'\n",
        "\n",
        "# Save the DataFrame to a CSV file\n",
        "data.to_csv(csv_path, index=False)\n",
        "\n",
        "print(f'Dataset saved to {csv_path}')"
      ]
    },
    {
      "cell_type": "code",
      "execution_count": null,
      "metadata": {
        "colab": {
          "base_uri": "https://localhost:8080/"
        },
        "id": "tWFwsqbGXOzy",
        "outputId": "4b332635-510a-422e-ee48-d8e5fce7a7e4"
      },
      "outputs": [
        {
          "output_type": "execute_result",
          "data": {
            "text/plain": [
              "(75000, 2)"
            ]
          },
          "metadata": {},
          "execution_count": 13
        }
      ],
      "source": [
        "dataset = pd.read_csv(csv_path)\n",
        "dataset.shape"
      ]
    },
    {
      "cell_type": "code",
      "execution_count": null,
      "metadata": {
        "colab": {
          "base_uri": "https://localhost:8080/"
        },
        "id": "r0qwTxS7PHOT",
        "outputId": "0a9d55a0-0560-4b59-df83-220889dab81c"
      },
      "outputs": [
        {
          "output_type": "execute_result",
          "data": {
            "text/plain": [
              "15000"
            ]
          },
          "metadata": {},
          "execution_count": 14
        }
      ],
      "source": [
        "len(dataset[dataset.label=='Arborio'])"
      ]
    },
    {
      "cell_type": "code",
      "execution_count": null,
      "metadata": {
        "colab": {
          "base_uri": "https://localhost:8080/"
        },
        "id": "6xbnVYB8PHJw",
        "outputId": "80c6668a-a636-40a3-a130-c8549ffdc9b4"
      },
      "outputs": [
        {
          "output_type": "execute_result",
          "data": {
            "text/plain": [
              "15000"
            ]
          },
          "metadata": {},
          "execution_count": 15
        }
      ],
      "source": [
        "len(dataset[dataset.label=='Basmati'])"
      ]
    },
    {
      "cell_type": "code",
      "execution_count": null,
      "metadata": {
        "colab": {
          "base_uri": "https://localhost:8080/"
        },
        "id": "yDW-jUJiPHH7",
        "outputId": "ef2cd9d5-f3b1-47e5-bd9c-9a4cb650a920"
      },
      "outputs": [
        {
          "output_type": "execute_result",
          "data": {
            "text/plain": [
              "15000"
            ]
          },
          "metadata": {},
          "execution_count": 16
        }
      ],
      "source": [
        "len(dataset[dataset.label=='Ipsala'])"
      ]
    },
    {
      "cell_type": "code",
      "execution_count": null,
      "metadata": {
        "colab": {
          "base_uri": "https://localhost:8080/"
        },
        "id": "4ifaRtybPHDy",
        "outputId": "b37502d4-ffd2-4b34-8349-ccd9e85f8eec"
      },
      "outputs": [
        {
          "output_type": "execute_result",
          "data": {
            "text/plain": [
              "15000"
            ]
          },
          "metadata": {},
          "execution_count": 17
        }
      ],
      "source": [
        "len(dataset[dataset.label=='Jasmine'])"
      ]
    },
    {
      "cell_type": "code",
      "execution_count": null,
      "metadata": {
        "colab": {
          "base_uri": "https://localhost:8080/"
        },
        "id": "_v1MpN_tPHBx",
        "outputId": "349df4e6-1a22-4a53-eb43-72e0dbc15ef9"
      },
      "outputs": [
        {
          "output_type": "execute_result",
          "data": {
            "text/plain": [
              "15000"
            ]
          },
          "metadata": {},
          "execution_count": 18
        }
      ],
      "source": [
        "len(dataset[dataset.label=='Karacadag'])"
      ]
    },
    {
      "cell_type": "markdown",
      "metadata": {
        "id": "CgX0a0YB8SaD"
      },
      "source": [
        "### Data Preprocessing"
      ]
    },
    {
      "cell_type": "code",
      "execution_count": null,
      "metadata": {
        "id": "yhZdSWq8_NsE"
      },
      "outputs": [],
      "source": [
        "from sklearn.model_selection import train_test_split\n",
        "from tensorflow.keras.preprocessing.image import ImageDataGenerator"
      ]
    },
    {
      "cell_type": "code",
      "execution_count": null,
      "metadata": {
        "colab": {
          "base_uri": "https://localhost:8080/",
          "height": 143
        },
        "id": "pikTMwqD_iEL",
        "outputId": "4e3011fc-4924-4cba-c9ee-d555b369fe69"
      },
      "outputs": [
        {
          "output_type": "execute_result",
          "data": {
            "text/plain": [
              "                                          image_path    label\n",
              "0  /content/rice_varieties/Basmati/basmati (12138...  Basmati\n",
              "1  /content/rice_varieties/Basmati/basmati (13943...  Basmati\n",
              "2  /content/rice_varieties/Basmati/basmati (9253)...  Basmati"
            ],
            "text/html": [
              "\n",
              "  <div id=\"df-8f40daf8-2e1a-4968-9230-19a90b0ab1e1\" class=\"colab-df-container\">\n",
              "    <div>\n",
              "<style scoped>\n",
              "    .dataframe tbody tr th:only-of-type {\n",
              "        vertical-align: middle;\n",
              "    }\n",
              "\n",
              "    .dataframe tbody tr th {\n",
              "        vertical-align: top;\n",
              "    }\n",
              "\n",
              "    .dataframe thead th {\n",
              "        text-align: right;\n",
              "    }\n",
              "</style>\n",
              "<table border=\"1\" class=\"dataframe\">\n",
              "  <thead>\n",
              "    <tr style=\"text-align: right;\">\n",
              "      <th></th>\n",
              "      <th>image_path</th>\n",
              "      <th>label</th>\n",
              "    </tr>\n",
              "  </thead>\n",
              "  <tbody>\n",
              "    <tr>\n",
              "      <th>0</th>\n",
              "      <td>/content/rice_varieties/Basmati/basmati (12138...</td>\n",
              "      <td>Basmati</td>\n",
              "    </tr>\n",
              "    <tr>\n",
              "      <th>1</th>\n",
              "      <td>/content/rice_varieties/Basmati/basmati (13943...</td>\n",
              "      <td>Basmati</td>\n",
              "    </tr>\n",
              "    <tr>\n",
              "      <th>2</th>\n",
              "      <td>/content/rice_varieties/Basmati/basmati (9253)...</td>\n",
              "      <td>Basmati</td>\n",
              "    </tr>\n",
              "  </tbody>\n",
              "</table>\n",
              "</div>\n",
              "    <div class=\"colab-df-buttons\">\n",
              "\n",
              "  <div class=\"colab-df-container\">\n",
              "    <button class=\"colab-df-convert\" onclick=\"convertToInteractive('df-8f40daf8-2e1a-4968-9230-19a90b0ab1e1')\"\n",
              "            title=\"Convert this dataframe to an interactive table.\"\n",
              "            style=\"display:none;\">\n",
              "\n",
              "  <svg xmlns=\"http://www.w3.org/2000/svg\" height=\"24px\" viewBox=\"0 -960 960 960\">\n",
              "    <path d=\"M120-120v-720h720v720H120Zm60-500h600v-160H180v160Zm220 220h160v-160H400v160Zm0 220h160v-160H400v160ZM180-400h160v-160H180v160Zm440 0h160v-160H620v160ZM180-180h160v-160H180v160Zm440 0h160v-160H620v160Z\"/>\n",
              "  </svg>\n",
              "    </button>\n",
              "\n",
              "  <style>\n",
              "    .colab-df-container {\n",
              "      display:flex;\n",
              "      gap: 12px;\n",
              "    }\n",
              "\n",
              "    .colab-df-convert {\n",
              "      background-color: #E8F0FE;\n",
              "      border: none;\n",
              "      border-radius: 50%;\n",
              "      cursor: pointer;\n",
              "      display: none;\n",
              "      fill: #1967D2;\n",
              "      height: 32px;\n",
              "      padding: 0 0 0 0;\n",
              "      width: 32px;\n",
              "    }\n",
              "\n",
              "    .colab-df-convert:hover {\n",
              "      background-color: #E2EBFA;\n",
              "      box-shadow: 0px 1px 2px rgba(60, 64, 67, 0.3), 0px 1px 3px 1px rgba(60, 64, 67, 0.15);\n",
              "      fill: #174EA6;\n",
              "    }\n",
              "\n",
              "    .colab-df-buttons div {\n",
              "      margin-bottom: 4px;\n",
              "    }\n",
              "\n",
              "    [theme=dark] .colab-df-convert {\n",
              "      background-color: #3B4455;\n",
              "      fill: #D2E3FC;\n",
              "    }\n",
              "\n",
              "    [theme=dark] .colab-df-convert:hover {\n",
              "      background-color: #434B5C;\n",
              "      box-shadow: 0px 1px 3px 1px rgba(0, 0, 0, 0.15);\n",
              "      filter: drop-shadow(0px 1px 2px rgba(0, 0, 0, 0.3));\n",
              "      fill: #FFFFFF;\n",
              "    }\n",
              "  </style>\n",
              "\n",
              "    <script>\n",
              "      const buttonEl =\n",
              "        document.querySelector('#df-8f40daf8-2e1a-4968-9230-19a90b0ab1e1 button.colab-df-convert');\n",
              "      buttonEl.style.display =\n",
              "        google.colab.kernel.accessAllowed ? 'block' : 'none';\n",
              "\n",
              "      async function convertToInteractive(key) {\n",
              "        const element = document.querySelector('#df-8f40daf8-2e1a-4968-9230-19a90b0ab1e1');\n",
              "        const dataTable =\n",
              "          await google.colab.kernel.invokeFunction('convertToInteractive',\n",
              "                                                    [key], {});\n",
              "        if (!dataTable) return;\n",
              "\n",
              "        const docLinkHtml = 'Like what you see? Visit the ' +\n",
              "          '<a target=\"_blank\" href=https://colab.research.google.com/notebooks/data_table.ipynb>data table notebook</a>'\n",
              "          + ' to learn more about interactive tables.';\n",
              "        element.innerHTML = '';\n",
              "        dataTable['output_type'] = 'display_data';\n",
              "        await google.colab.output.renderOutput(dataTable, element);\n",
              "        const docLink = document.createElement('div');\n",
              "        docLink.innerHTML = docLinkHtml;\n",
              "        element.appendChild(docLink);\n",
              "      }\n",
              "    </script>\n",
              "  </div>\n",
              "\n",
              "\n",
              "<div id=\"df-5a0cc408-431f-46de-9b8b-bfc054f8f7c6\">\n",
              "  <button class=\"colab-df-quickchart\" onclick=\"quickchart('df-5a0cc408-431f-46de-9b8b-bfc054f8f7c6')\"\n",
              "            title=\"Suggest charts\"\n",
              "            style=\"display:none;\">\n",
              "\n",
              "<svg xmlns=\"http://www.w3.org/2000/svg\" height=\"24px\"viewBox=\"0 0 24 24\"\n",
              "     width=\"24px\">\n",
              "    <g>\n",
              "        <path d=\"M19 3H5c-1.1 0-2 .9-2 2v14c0 1.1.9 2 2 2h14c1.1 0 2-.9 2-2V5c0-1.1-.9-2-2-2zM9 17H7v-7h2v7zm4 0h-2V7h2v10zm4 0h-2v-4h2v4z\"/>\n",
              "    </g>\n",
              "</svg>\n",
              "  </button>\n",
              "\n",
              "<style>\n",
              "  .colab-df-quickchart {\n",
              "      --bg-color: #E8F0FE;\n",
              "      --fill-color: #1967D2;\n",
              "      --hover-bg-color: #E2EBFA;\n",
              "      --hover-fill-color: #174EA6;\n",
              "      --disabled-fill-color: #AAA;\n",
              "      --disabled-bg-color: #DDD;\n",
              "  }\n",
              "\n",
              "  [theme=dark] .colab-df-quickchart {\n",
              "      --bg-color: #3B4455;\n",
              "      --fill-color: #D2E3FC;\n",
              "      --hover-bg-color: #434B5C;\n",
              "      --hover-fill-color: #FFFFFF;\n",
              "      --disabled-bg-color: #3B4455;\n",
              "      --disabled-fill-color: #666;\n",
              "  }\n",
              "\n",
              "  .colab-df-quickchart {\n",
              "    background-color: var(--bg-color);\n",
              "    border: none;\n",
              "    border-radius: 50%;\n",
              "    cursor: pointer;\n",
              "    display: none;\n",
              "    fill: var(--fill-color);\n",
              "    height: 32px;\n",
              "    padding: 0;\n",
              "    width: 32px;\n",
              "  }\n",
              "\n",
              "  .colab-df-quickchart:hover {\n",
              "    background-color: var(--hover-bg-color);\n",
              "    box-shadow: 0 1px 2px rgba(60, 64, 67, 0.3), 0 1px 3px 1px rgba(60, 64, 67, 0.15);\n",
              "    fill: var(--button-hover-fill-color);\n",
              "  }\n",
              "\n",
              "  .colab-df-quickchart-complete:disabled,\n",
              "  .colab-df-quickchart-complete:disabled:hover {\n",
              "    background-color: var(--disabled-bg-color);\n",
              "    fill: var(--disabled-fill-color);\n",
              "    box-shadow: none;\n",
              "  }\n",
              "\n",
              "  .colab-df-spinner {\n",
              "    border: 2px solid var(--fill-color);\n",
              "    border-color: transparent;\n",
              "    border-bottom-color: var(--fill-color);\n",
              "    animation:\n",
              "      spin 1s steps(1) infinite;\n",
              "  }\n",
              "\n",
              "  @keyframes spin {\n",
              "    0% {\n",
              "      border-color: transparent;\n",
              "      border-bottom-color: var(--fill-color);\n",
              "      border-left-color: var(--fill-color);\n",
              "    }\n",
              "    20% {\n",
              "      border-color: transparent;\n",
              "      border-left-color: var(--fill-color);\n",
              "      border-top-color: var(--fill-color);\n",
              "    }\n",
              "    30% {\n",
              "      border-color: transparent;\n",
              "      border-left-color: var(--fill-color);\n",
              "      border-top-color: var(--fill-color);\n",
              "      border-right-color: var(--fill-color);\n",
              "    }\n",
              "    40% {\n",
              "      border-color: transparent;\n",
              "      border-right-color: var(--fill-color);\n",
              "      border-top-color: var(--fill-color);\n",
              "    }\n",
              "    60% {\n",
              "      border-color: transparent;\n",
              "      border-right-color: var(--fill-color);\n",
              "    }\n",
              "    80% {\n",
              "      border-color: transparent;\n",
              "      border-right-color: var(--fill-color);\n",
              "      border-bottom-color: var(--fill-color);\n",
              "    }\n",
              "    90% {\n",
              "      border-color: transparent;\n",
              "      border-bottom-color: var(--fill-color);\n",
              "    }\n",
              "  }\n",
              "</style>\n",
              "\n",
              "  <script>\n",
              "    async function quickchart(key) {\n",
              "      const quickchartButtonEl =\n",
              "        document.querySelector('#' + key + ' button');\n",
              "      quickchartButtonEl.disabled = true;  // To prevent multiple clicks.\n",
              "      quickchartButtonEl.classList.add('colab-df-spinner');\n",
              "      try {\n",
              "        const charts = await google.colab.kernel.invokeFunction(\n",
              "            'suggestCharts', [key], {});\n",
              "      } catch (error) {\n",
              "        console.error('Error during call to suggestCharts:', error);\n",
              "      }\n",
              "      quickchartButtonEl.classList.remove('colab-df-spinner');\n",
              "      quickchartButtonEl.classList.add('colab-df-quickchart-complete');\n",
              "    }\n",
              "    (() => {\n",
              "      let quickchartButtonEl =\n",
              "        document.querySelector('#df-5a0cc408-431f-46de-9b8b-bfc054f8f7c6 button');\n",
              "      quickchartButtonEl.style.display =\n",
              "        google.colab.kernel.accessAllowed ? 'block' : 'none';\n",
              "    })();\n",
              "  </script>\n",
              "</div>\n",
              "\n",
              "    </div>\n",
              "  </div>\n"
            ]
          },
          "metadata": {},
          "execution_count": 20
        }
      ],
      "source": [
        "dataset.head(3)"
      ]
    },
    {
      "cell_type": "code",
      "execution_count": null,
      "metadata": {
        "id": "5M8i_-3W_pa5"
      },
      "outputs": [],
      "source": [
        "# Split the data into training and testing sets\n",
        "train_data, test_data = train_test_split(dataset, test_size=0.1, random_state=32)"
      ]
    },
    {
      "cell_type": "code",
      "execution_count": null,
      "metadata": {
        "id": "gTi2WJdfMinP"
      },
      "outputs": [],
      "source": [
        "# Split the data into training and validation sets\n",
        "train_data, val_data = train_test_split(train_data , test_size=0.1, random_state=32)"
      ]
    },
    {
      "cell_type": "code",
      "execution_count": null,
      "metadata": {
        "id": "lmTyp6jo_u_J"
      },
      "outputs": [],
      "source": [
        "# Create an ImageDataGenerator for training data with data augmentation\n",
        "train_datagen = ImageDataGenerator(\n",
        "    rescale=1./255,            # Normalize pixel values\n",
        "    shear_range=0.2,           # Shear intensity\n",
        "    zoom_range=0.2,            # Zoom range\n",
        "    horizontal_flip=True       # Horizontal flip\n",
        ")"
      ]
    },
    {
      "cell_type": "code",
      "execution_count": null,
      "metadata": {
        "id": "7Y19X4D9WJRa"
      },
      "outputs": [],
      "source": [
        "# Create an ImageDataGenerator for validation data (only normalization)\n",
        "val_datagen = ImageDataGenerator(rescale=1./255)"
      ]
    },
    {
      "cell_type": "code",
      "execution_count": null,
      "metadata": {
        "id": "kYoz5_zXM4Js"
      },
      "outputs": [],
      "source": [
        "# Create an ImageDataGenerator for test data (only normalization)\n",
        "test_datagen = ImageDataGenerator(rescale=1./255)"
      ]
    },
    {
      "cell_type": "code",
      "execution_count": null,
      "metadata": {
        "id": "UE9B_Fv0WO1E"
      },
      "outputs": [],
      "source": [
        "# Define batch size\n",
        "batch_size = 32"
      ]
    },
    {
      "cell_type": "code",
      "execution_count": null,
      "metadata": {
        "id": "h0-8NEmqj73r"
      },
      "outputs": [],
      "source": [
        "image_size = (128,128)"
      ]
    },
    {
      "cell_type": "code",
      "execution_count": null,
      "metadata": {
        "colab": {
          "base_uri": "https://localhost:8080/"
        },
        "id": "piT2ucsiWRbE",
        "outputId": "85d966c2-0991-4cf7-ed44-78863519a0ee"
      },
      "outputs": [
        {
          "output_type": "stream",
          "name": "stdout",
          "text": [
            "Found 60750 validated image filenames belonging to 5 classes.\n"
          ]
        }
      ],
      "source": [
        "# Create the train generator\n",
        "train_generator = train_datagen.flow_from_dataframe(\n",
        "    dataframe=train_data,\n",
        "    x_col='image_path',\n",
        "    y_col='label',\n",
        "    target_size=image_size,\n",
        "    batch_size=batch_size,\n",
        "    class_mode='categorical'\n",
        ")"
      ]
    },
    {
      "cell_type": "code",
      "execution_count": null,
      "metadata": {
        "colab": {
          "base_uri": "https://localhost:8080/"
        },
        "id": "4jLBvLxsVG6E",
        "outputId": "de5dacb5-7c63-425b-fb6e-7f0d8619b7d9"
      },
      "outputs": [
        {
          "output_type": "stream",
          "name": "stdout",
          "text": [
            "Found 6750 validated image filenames belonging to 5 classes.\n"
          ]
        }
      ],
      "source": [
        "# Create the validation generator\n",
        "val_generator = val_datagen.flow_from_dataframe(\n",
        "    dataframe=val_data,\n",
        "    x_col='image_path',\n",
        "    y_col='label',\n",
        "    target_size=image_size,\n",
        "    batch_size=batch_size,\n",
        "    class_mode='categorical'   # Use 'categorical' for multi-class classification\n",
        ")"
      ]
    },
    {
      "cell_type": "code",
      "execution_count": null,
      "metadata": {
        "colab": {
          "base_uri": "https://localhost:8080/"
        },
        "id": "jpItDs5KNIHt",
        "outputId": "1579dcbc-c48c-4c34-924d-d63bb93e76b8"
      },
      "outputs": [
        {
          "output_type": "stream",
          "name": "stdout",
          "text": [
            "Found 6750 validated image filenames belonging to 5 classes.\n"
          ]
        }
      ],
      "source": [
        "# Create the validation generator\n",
        "test_generator = test_datagen.flow_from_dataframe(\n",
        "    dataframe=val_data,\n",
        "    x_col='image_path',\n",
        "    y_col='label',\n",
        "    target_size=image_size,\n",
        "    batch_size=batch_size,\n",
        "    class_mode='categorical'   # Use 'categorical' for multi-class classification\n",
        ")"
      ]
    },
    {
      "cell_type": "code",
      "execution_count": null,
      "metadata": {
        "colab": {
          "base_uri": "https://localhost:8080/"
        },
        "id": "NjYQsunIlbyE",
        "outputId": "8feaf1a1-1514-4e9d-e2a0-d53c21256057"
      },
      "outputs": [
        {
          "output_type": "execute_result",
          "data": {
            "text/plain": [
              "{'Arborio': 0, 'Basmati': 1, 'Ipsala': 2, 'Jasmine': 3, 'Karacadag': 4}"
            ]
          },
          "metadata": {},
          "execution_count": 31
        }
      ],
      "source": [
        "train_generator.class_indices"
      ]
    },
    {
      "cell_type": "code",
      "execution_count": null,
      "metadata": {
        "colab": {
          "base_uri": "https://localhost:8080/"
        },
        "id": "4NwtYdS7lbvL",
        "outputId": "261f4eb7-817f-4de9-ef82-5a93286969e7"
      },
      "outputs": [
        {
          "output_type": "execute_result",
          "data": {
            "text/plain": [
              "{'Arborio': 0, 'Basmati': 1, 'Ipsala': 2, 'Jasmine': 3, 'Karacadag': 4}"
            ]
          },
          "metadata": {},
          "execution_count": 32
        }
      ],
      "source": [
        "val_generator.class_indices"
      ]
    },
    {
      "cell_type": "code",
      "execution_count": null,
      "metadata": {
        "colab": {
          "base_uri": "https://localhost:8080/"
        },
        "id": "irjdA06tNRit",
        "outputId": "37bbb3d7-7ffe-427f-900c-11c7f24c03ce"
      },
      "outputs": [
        {
          "output_type": "execute_result",
          "data": {
            "text/plain": [
              "{'Arborio': 0, 'Basmati': 1, 'Ipsala': 2, 'Jasmine': 3, 'Karacadag': 4}"
            ]
          },
          "metadata": {},
          "execution_count": 33
        }
      ],
      "source": [
        "test_generator.class_indices"
      ]
    },
    {
      "cell_type": "code",
      "execution_count": null,
      "metadata": {
        "colab": {
          "base_uri": "https://localhost:8080/"
        },
        "id": "lHKQrDOBlnJ7",
        "outputId": "a850a6ba-cf18-4e8e-e974-755e0256141d"
      },
      "outputs": [
        {
          "output_type": "execute_result",
          "data": {
            "text/plain": [
              "(32, 128, 128, 3)"
            ]
          },
          "metadata": {},
          "execution_count": 34
        }
      ],
      "source": [
        "next(train_generator)[0].shape"
      ]
    },
    {
      "cell_type": "code",
      "execution_count": null,
      "metadata": {
        "colab": {
          "base_uri": "https://localhost:8080/"
        },
        "id": "WdbT-qmymkg3",
        "outputId": "5b8fc252-093d-4813-f8d9-1bf97b39e3d8"
      },
      "outputs": [
        {
          "output_type": "execute_result",
          "data": {
            "text/plain": [
              "(32, 5)"
            ]
          },
          "metadata": {},
          "execution_count": 35
        }
      ],
      "source": [
        "next(train_generator)[1].shape"
      ]
    },
    {
      "cell_type": "code",
      "execution_count": null,
      "metadata": {
        "colab": {
          "base_uri": "https://localhost:8080/"
        },
        "id": "tJrYwOIKmePy",
        "outputId": "f045d474-8dfa-4e69-b996-b95e44099078"
      },
      "outputs": [
        {
          "output_type": "execute_result",
          "data": {
            "text/plain": [
              "(32, 128, 128, 3)"
            ]
          },
          "metadata": {},
          "execution_count": 36
        }
      ],
      "source": [
        "next(val_generator)[0].shape"
      ]
    },
    {
      "cell_type": "code",
      "execution_count": null,
      "metadata": {
        "colab": {
          "base_uri": "https://localhost:8080/"
        },
        "id": "mZHPNQJAmvat",
        "outputId": "0dc90065-2cc8-46bf-cd89-26fa3a92bafa"
      },
      "outputs": [
        {
          "output_type": "execute_result",
          "data": {
            "text/plain": [
              "(32, 5)"
            ]
          },
          "metadata": {},
          "execution_count": 37
        }
      ],
      "source": [
        "next(val_generator)[1].shape"
      ]
    },
    {
      "cell_type": "code",
      "execution_count": null,
      "metadata": {
        "colab": {
          "base_uri": "https://localhost:8080/"
        },
        "id": "EJbL-Ng2Nc92",
        "outputId": "6c543efb-3eff-4006-8a15-7f0664df9d6b"
      },
      "outputs": [
        {
          "output_type": "execute_result",
          "data": {
            "text/plain": [
              "(32, 128, 128, 3)"
            ]
          },
          "metadata": {},
          "execution_count": 38
        }
      ],
      "source": [
        "next(test_generator)[0].shape"
      ]
    },
    {
      "cell_type": "code",
      "execution_count": null,
      "metadata": {
        "colab": {
          "base_uri": "https://localhost:8080/"
        },
        "id": "BLRHge9yNcq5",
        "outputId": "399a1007-cbb2-45b1-e47d-856e1cde511e"
      },
      "outputs": [
        {
          "output_type": "execute_result",
          "data": {
            "text/plain": [
              "(32, 5)"
            ]
          },
          "metadata": {},
          "execution_count": 39
        }
      ],
      "source": [
        "next(test_generator)[1].shape"
      ]
    },
    {
      "cell_type": "code",
      "execution_count": null,
      "metadata": {
        "id": "cRkdM2VUlFl-"
      },
      "outputs": [],
      "source": [
        "import matplotlib.pyplot as plt"
      ]
    },
    {
      "cell_type": "code",
      "execution_count": null,
      "metadata": {
        "colab": {
          "base_uri": "https://localhost:8080/",
          "height": 835
        },
        "id": "2y-EnF6CVG3W",
        "outputId": "db5c599d-6d02-44c5-99af-141f557c26b5"
      },
      "outputs": [
        {
          "output_type": "display_data",
          "data": {
            "text/plain": [
              "<Figure size 1000x1000 with 12 Axes>"
            ],
            "image/png": "[encoded data removed]"
          },
          "metadata": {}
        }
      ],
      "source": [
        "plt.figure(figsize = (10,10))\n",
        "for idx,each_batch in enumerate(train_generator,1):  # starting idx from 1\n",
        "  img = each_batch[0][0]\n",
        "  plt.subplot(4,3,idx) # here considering idx as position\n",
        "  plt.imshow(img)\n",
        "  if idx >= 12:\n",
        "    break"
      ]
    },
    {
      "cell_type": "markdown",
      "metadata": {
        "id": "v7Fbtxx35Eo0"
      },
      "source": [
        "### Building a model using Vanilla CNN architecture"
      ]
    },
    {
      "cell_type": "code",
      "execution_count": null,
      "metadata": {
        "id": "PDhBlSOT5gnH"
      },
      "outputs": [],
      "source": [
        "from tensorflow.keras.models import Sequential\n",
        "from tensorflow.keras.layers import Conv2D, MaxPooling2D, Flatten, Dense, Dropout\n",
        "from tensorflow.keras.optimizers import Adam"
      ]
    },
    {
      "cell_type": "code",
      "execution_count": null,
      "metadata": {
        "id": "Fj2GchHQ5z7H"
      },
      "outputs": [],
      "source": [
        "model_vanilla = Sequential()"
      ]
    },
    {
      "cell_type": "code",
      "execution_count": null,
      "metadata": {
        "id": "fTkUGA4k55C_"
      },
      "outputs": [],
      "source": [
        "# Convolutional layer 1\n",
        "model_vanilla.add(Conv2D(32, (3, 3), activation='relu', input_shape=(image_size[0], image_size[1], 3)))\n",
        "model_vanilla.add(MaxPooling2D((2, 2)))"
      ]
    },
    {
      "cell_type": "code",
      "execution_count": null,
      "metadata": {
        "id": "d6Q_UWn759Qj"
      },
      "outputs": [],
      "source": [
        "# Convolutional layer 2\n",
        "model_vanilla.add(Conv2D(64, (3, 3), activation='relu'))\n",
        "model_vanilla.add(MaxPooling2D((2, 2)))"
      ]
    },
    {
      "cell_type": "code",
      "execution_count": null,
      "metadata": {
        "id": "63NxS1mu6Ouc"
      },
      "outputs": [],
      "source": [
        "# Convolutional layer 3\n",
        "model_vanilla.add(Conv2D(128, (3, 3), activation='relu'))\n",
        "model_vanilla.add(MaxPooling2D((2, 2)))"
      ]
    },
    {
      "cell_type": "code",
      "execution_count": null,
      "metadata": {
        "id": "zTlj4FU56R-t"
      },
      "outputs": [],
      "source": [
        "# Flatten layer\n",
        "model_vanilla.add(Flatten())"
      ]
    },
    {
      "cell_type": "code",
      "execution_count": null,
      "metadata": {
        "id": "-8P32Ndi6WoR"
      },
      "outputs": [],
      "source": [
        "# Dense layers\n",
        "model_vanilla.add(Dense(128, activation='relu'))\n",
        "model_vanilla.add(Dropout(0.2))  # Adding dropout for regularization\n",
        "model_vanilla.add(Dense(5, activation='softmax'))  # Assuming 5 classes for 5 rice varieties"
      ]
    },
    {
      "cell_type": "code",
      "execution_count": null,
      "metadata": {
        "id": "BpC-CmrN6a_K"
      },
      "outputs": [],
      "source": [
        "# Compile the model\n",
        "model_vanilla.compile(optimizer=Adam(learning_rate=0.001), loss='categorical_crossentropy', metrics=['accuracy'])"
      ]
    },
    {
      "cell_type": "code",
      "execution_count": null,
      "metadata": {
        "colab": {
          "base_uri": "https://localhost:8080/"
        },
        "id": "2mljN9J0VGxA",
        "outputId": "6adff566-2521-40b0-cdaf-d5938f6730a6"
      },
      "outputs": [
        {
          "output_type": "stream",
          "name": "stdout",
          "text": [
            "Model: \"sequential\"\n",
            "_________________________________________________________________\n",
            " Layer (type)                Output Shape              Param #   \n",
            "=================================================================\n",
            " conv2d (Conv2D)             (None, 126, 126, 32)      896       \n",
            "                                                                 \n",
            " max_pooling2d (MaxPooling2  (None, 63, 63, 32)        0         \n",
            " D)                                                              \n",
            "                                                                 \n",
            " conv2d_1 (Conv2D)           (None, 61, 61, 64)        18496     \n",
            "                                                                 \n",
            " max_pooling2d_1 (MaxPoolin  (None, 30, 30, 64)        0         \n",
            " g2D)                                                            \n",
            "                                                                 \n",
            " conv2d_2 (Conv2D)           (None, 28, 28, 128)       73856     \n",
            "                                                                 \n",
            " max_pooling2d_2 (MaxPoolin  (None, 14, 14, 128)       0         \n",
            " g2D)                                                            \n",
            "                                                                 \n",
            " flatten (Flatten)           (None, 25088)             0         \n",
            "                                                                 \n",
            " dense (Dense)               (None, 128)               3211392   \n",
            "                                                                 \n",
            " dropout (Dropout)           (None, 128)               0         \n",
            "                                                                 \n",
            " dense_1 (Dense)             (None, 5)                 645       \n",
            "                                                                 \n",
            "=================================================================\n",
            "Total params: 3305285 (12.61 MB)\n",
            "Trainable params: 3305285 (12.61 MB)\n",
            "Non-trainable params: 0 (0.00 Byte)\n",
            "_________________________________________________________________\n"
          ]
        }
      ],
      "source": [
        "# Display the model summary\n",
        "model_vanilla.summary()"
      ]
    },
    {
      "cell_type": "code",
      "execution_count": null,
      "metadata": {
        "id": "qGWx--1rr8Jh"
      },
      "outputs": [],
      "source": [
        "from tensorflow.keras.utils import plot_model"
      ]
    },
    {
      "cell_type": "code",
      "execution_count": null,
      "metadata": {
        "colab": {
          "base_uri": "https://localhost:8080/",
          "height": 1000
        },
        "id": "b7_PArrYr99t",
        "outputId": "8ab89721-854b-45b0-a3ec-f0c68f97a62c"
      },
      "outputs": [
        {
          "output_type": "execute_result",
          "data": {
            "image/png": "[encoded data removed]",
            "text/plain": [
              "<IPython.core.display.Image object>"
            ]
          },
          "metadata": {},
          "execution_count": 52
        }
      ],
      "source": [
        "plot_model(model_vanilla , show_shapes = True , show_dtype = True)"
      ]
    },
    {
      "cell_type": "markdown",
      "metadata": {
        "id": "S4TYLerA790Q"
      },
      "source": [
        "## Training the model_vanilla"
      ]
    },
    {
      "cell_type": "code",
      "execution_count": null,
      "metadata": {
        "id": "8bmsuJOi8HVi"
      },
      "outputs": [],
      "source": [
        "from sklearn.metrics import confusion_matrix, classification_report\n",
        "from tensorflow.keras.callbacks import ModelCheckpoint"
      ]
    },
    {
      "cell_type": "code",
      "execution_count": null,
      "metadata": {
        "id": "zWMvo4gI_IS6"
      },
      "outputs": [],
      "source": [
        "# Define the path to save the best model\n",
        "model_checkpoint_path = '/content/best_CNNmodel_Vanilla.h5'"
      ]
    },
    {
      "cell_type": "code",
      "execution_count": null,
      "metadata": {
        "id": "L86dnoUB8J0p"
      },
      "outputs": [],
      "source": [
        "# Create the ModelCheckpoint callback\n",
        "model_checkpoint = ModelCheckpoint(\n",
        "    filepath=model_checkpoint_path,\n",
        "    monitor='val_accuracy',\n",
        "    save_best_only=True,\n",
        "    mode='max',\n",
        "    verbose=1\n",
        ")"
      ]
    },
    {
      "cell_type": "code",
      "execution_count": null,
      "metadata": {
        "colab": {
          "base_uri": "https://localhost:8080/"
        },
        "id": "F85b_PMb_p_G",
        "outputId": "abb05249-18d1-468f-f9b8-3a933a2ea602"
      },
      "outputs": [
        {
          "output_type": "stream",
          "name": "stderr",
          "text": [
            "<ipython-input-56-cc6995cf37e3>:2: UserWarning: `Model.fit_generator` is deprecated and will be removed in a future version. Please use `Model.fit`, which supports generators.\n",
            "  history = model_vanilla.fit_generator(\n"
          ]
        },
        {
          "output_type": "stream",
          "name": "stdout",
          "text": [
            "Epoch 1/2\n",
            "1899/1899 [==============================] - ETA: 0s - loss: 0.1935 - accuracy: 0.9264\n",
            "Epoch 1: val_accuracy improved from -inf to 0.99037, saving model to /content/best_CNNmodel_Vanilla.h5\n",
            "1899/1899 [==============================] - 2180s 1s/step - loss: 0.1935 - accuracy: 0.9264 - val_loss: 0.0287 - val_accuracy: 0.9904\n"
          ]
        },
        {
          "output_type": "stream",
          "name": "stderr",
          "text": [
            "/usr/local/lib/python3.10/dist-packages/keras/src/engine/training.py:3103: UserWarning: You are saving your model as an HDF5 file via `model.save()`. This file format is considered legacy. We recommend using instead the native Keras format, e.g. `model.save('my_model.keras')`.\n",
            "  saving_api.save_model(\n"
          ]
        },
        {
          "output_type": "stream",
          "name": "stdout",
          "text": [
            "Epoch 2/2\n",
            "1899/1899 [==============================] - ETA: 0s - loss: 0.0648 - accuracy: 0.9787\n",
            "Epoch 2: val_accuracy did not improve from 0.99037\n",
            "1899/1899 [==============================] - 2145s 1s/step - loss: 0.0648 - accuracy: 0.9787 - val_loss: 0.2012 - val_accuracy: 0.9361\n"
          ]
        }
      ],
      "source": [
        "# Train the model with ModelCheckpoint callback\n",
        "history = model_vanilla.fit_generator(\n",
        "    generator=train_generator,\n",
        "    steps_per_epoch=len(train_generator),\n",
        "    epochs=2,\n",
        "    validation_data=val_generator,\n",
        "    validation_steps=len(val_generator),\n",
        "    callbacks=[model_checkpoint]  # Include the ModelCheckpoint callback\n",
        ")"
      ]
    },
    {
      "cell_type": "markdown",
      "metadata": {
        "id": "AwjsoAcHaHIc"
      },
      "source": [
        "## Evaluating the model_vanilla"
      ]
    },
    {
      "cell_type": "markdown",
      "source": [
        "### Evaluating model_vanilla on train data"
      ],
      "metadata": {
        "id": "BBnwEezO6Drj"
      }
    },
    {
      "cell_type": "code",
      "execution_count": null,
      "metadata": {
        "colab": {
          "base_uri": "https://localhost:8080/"
        },
        "id": "TtzqmEQtUwxc",
        "outputId": "5315644d-6d53-4797-bc03-e397290d0524"
      },
      "outputs": [
        {
          "output_type": "stream",
          "name": "stdout",
          "text": [
            "1899/1899 [==============================] - 795s 418ms/step - loss: 0.0459 - accuracy: 0.9847\n"
          ]
        }
      ],
      "source": [
        "# predictions on train data\n",
        "train_result = model_vanilla.evaluate(train_generator, steps=len(train_generator))"
      ]
    },
    {
      "cell_type": "code",
      "execution_count": null,
      "metadata": {
        "colab": {
          "base_uri": "https://localhost:8080/"
        },
        "id": "hmSkaCaFjCeT",
        "outputId": "c5ddcbfb-2b10-43a1-8164-4ed943c6a3af"
      },
      "outputs": [
        {
          "output_type": "execute_result",
          "data": {
            "text/plain": [
              "[0.04591057449579239, 0.984674870967865]"
            ]
          },
          "metadata": {},
          "execution_count": 58
        }
      ],
      "source": [
        "train_result"
      ]
    },
    {
      "cell_type": "code",
      "execution_count": null,
      "metadata": {
        "colab": {
          "base_uri": "https://localhost:8080/"
        },
        "id": "XIyzJ5QZlqw_",
        "outputId": "d10ec224-c906-4418-a7c3-02c617b60db0"
      },
      "outputs": [
        {
          "output_type": "execute_result",
          "data": {
            "text/plain": [
              "60750"
            ]
          },
          "metadata": {},
          "execution_count": 59
        }
      ],
      "source": [
        "train_true = train_generator.classes\n",
        "len(train_true)"
      ]
    },
    {
      "cell_type": "code",
      "execution_count": null,
      "metadata": {
        "colab": {
          "base_uri": "https://localhost:8080/"
        },
        "id": "U6eAqzt8kzh4",
        "outputId": "f1f409ea-8eb4-45dd-924e-a364a4a79c90"
      },
      "outputs": [
        {
          "output_type": "stream",
          "name": "stdout",
          "text": [
            "1899/1899 [==============================] - 796s 419ms/step\n"
          ]
        }
      ],
      "source": [
        "predictions = model_vanilla.predict(train_generator, steps=len(train_generator))\n",
        "train_pred = np.argmax(predictions,axis=1)"
      ]
    },
    {
      "cell_type": "code",
      "execution_count": null,
      "metadata": {
        "id": "25nr84Lic5c3"
      },
      "outputs": [],
      "source": [
        "import numpy as np"
      ]
    },
    {
      "cell_type": "code",
      "execution_count": null,
      "metadata": {
        "id": "HvVFc4rdc-k6"
      },
      "outputs": [],
      "source": [
        "train_pred = np.argmax(predictions,axis=1)"
      ]
    },
    {
      "cell_type": "code",
      "execution_count": null,
      "metadata": {
        "colab": {
          "base_uri": "https://localhost:8080/"
        },
        "id": "zud4AnCulMdq",
        "outputId": "36b5b17e-e2d2-4ef2-bd1a-59bb625710fe"
      },
      "outputs": [
        {
          "output_type": "execute_result",
          "data": {
            "text/plain": [
              "60750"
            ]
          },
          "metadata": {},
          "execution_count": 63
        }
      ],
      "source": [
        "len(train_pred)"
      ]
    },
    {
      "cell_type": "code",
      "execution_count": null,
      "metadata": {
        "colab": {
          "base_uri": "https://localhost:8080/"
        },
        "id": "xzy0op3rjNUL",
        "outputId": "82bcd794-f654-44c2-a7d6-47df87dd079f"
      },
      "outputs": [
        {
          "output_type": "stream",
          "name": "stdout",
          "text": [
            "Evaluation Results on train data :\n",
            "Loss: 0.04591057449579239\n",
            "Accuracy: 0.984674870967865\n",
            "\n",
            "Confusion Matrix:\n",
            "[[2488 2382 2459 2507 2426]\n",
            " [2411 2366 2459 2387 2430]\n",
            " [2461 2315 2411 2489 2472]\n",
            " [2423 2399 2448 2450 2377]\n",
            " [2503 2330 2455 2399 2503]]\n",
            "\n",
            "Classification Report:\n",
            "              precision    recall  f1-score   support\n",
            "\n",
            "     Arborio       0.20      0.20      0.20     12262\n",
            "     Basmati       0.20      0.20      0.20     12053\n",
            "      Ipsala       0.20      0.20      0.20     12148\n",
            "     Jasmine       0.20      0.20      0.20     12097\n",
            "   Karacadag       0.21      0.21      0.21     12190\n",
            "\n",
            "    accuracy                           0.20     60750\n",
            "   macro avg       0.20      0.20      0.20     60750\n",
            "weighted avg       0.20      0.20      0.20     60750\n",
            "\n"
          ]
        }
      ],
      "source": [
        "# Confusion matrix for training data predictions\n",
        "conf_matrix_train = confusion_matrix(train_true, train_pred)\n",
        "\n",
        "# Classification report\n",
        "class_report_train = classification_report(train_true, train_pred, target_names = train_generator.class_indices.keys())\n",
        "\n",
        "# Print evaluation results\n",
        "print(\"Evaluation Results on train data :\")\n",
        "print(\"Loss:\", train_result[0])\n",
        "print(\"Accuracy:\", train_result[1])\n",
        "\n",
        "# Print confusion matrix and classification report\n",
        "print(\"\\nConfusion Matrix:\")\n",
        "print(conf_matrix_train)\n",
        "\n",
        "print(\"\\nClassification Report:\")\n",
        "print(class_report_train)"
      ]
    },
    {
      "cell_type": "markdown",
      "source": [
        "#### Evaluating the model_vanilla on validation data"
      ],
      "metadata": {
        "id": "qo3xXFuO6KmR"
      }
    },
    {
      "cell_type": "code",
      "execution_count": null,
      "metadata": {
        "colab": {
          "base_uri": "https://localhost:8080/"
        },
        "id": "HAh5-h0z8Qut",
        "outputId": "9bb19467-f661-4347-cc40-916f56860d3f"
      },
      "outputs": [
        {
          "output_type": "stream",
          "name": "stdout",
          "text": [
            "211/211 [==============================] - 64s 302ms/step - loss: 0.2012 - accuracy: 0.9361\n",
            "211/211 [==============================] - 67s 318ms/step\n",
            "Evaluation Results on validation data :\n",
            "Loss: 0.20122098922729492\n",
            "Accuracy: 0.9361481666564941\n",
            "\n",
            "Confusion Matrix:\n",
            "[[197 242 295 267 258]\n",
            " [249 277 358 272 266]\n",
            " [235 248 315 264 261]\n",
            " [221 275 311 315 278]\n",
            " [203 258 328 296 261]]\n",
            "\n",
            "Classification Report:\n",
            "              precision    recall  f1-score   support\n",
            "\n",
            "     Arborio       0.18      0.16      0.17      1259\n",
            "     Basmati       0.21      0.19      0.20      1422\n",
            "      Ipsala       0.20      0.24      0.22      1323\n",
            "     Jasmine       0.22      0.23      0.22      1400\n",
            "   Karacadag       0.20      0.19      0.20      1346\n",
            "\n",
            "    accuracy                           0.20      6750\n",
            "   macro avg       0.20      0.20      0.20      6750\n",
            "weighted avg       0.20      0.20      0.20      6750\n",
            "\n"
          ]
        }
      ],
      "source": [
        "# predictions on validation data\n",
        "val_result = model_vanilla.evaluate(val_generator, steps=len(val_generator))\n",
        "\n",
        "val_true = val_generator.classes\n",
        "predictions = model_vanilla.predict(val_generator, steps=len(val_generator))\n",
        "val_pred = np.argmax(predictions,axis=1)\n",
        "\n",
        "# Confusion matrix for validation data predictions\n",
        "conf_matrix_val = confusion_matrix(val_true, val_pred)\n",
        "\n",
        "# Classification report\n",
        "class_report_val = classification_report(val_true, val_pred, target_names=val_generator.class_indices.keys())\n",
        "\n",
        "# Print evaluation results\n",
        "print(\"Evaluation Results on validation data :\")\n",
        "print(\"Loss:\", val_result[0])\n",
        "print(\"Accuracy:\", val_result[1])\n",
        "\n",
        "# Print confusion matrix and classification report\n",
        "print(\"\\nConfusion Matrix:\")\n",
        "print(conf_matrix_val)\n",
        "\n",
        "print(\"\\nClassification Report:\")\n",
        "print(class_report_val)"
      ]
    },
    {
      "cell_type": "markdown",
      "source": [
        "#### Evaluating the model_vanilla on test data"
      ],
      "metadata": {
        "id": "tqyCptmQ6Q32"
      }
    },
    {
      "cell_type": "code",
      "execution_count": null,
      "metadata": {
        "colab": {
          "base_uri": "https://localhost:8080/"
        },
        "id": "ra-tkoVFXxHm",
        "outputId": "b4ba65cf-805a-4492-faf8-e45a0e301516"
      },
      "outputs": [
        {
          "output_type": "stream",
          "name": "stdout",
          "text": [
            "211/211 [==============================] - 64s 303ms/step - loss: 0.2012 - accuracy: 0.9361\n",
            "211/211 [==============================] - 63s 299ms/step\n",
            "Evaluation Results on testing data :\n",
            "Loss: 0.20122098922729492\n",
            "Accuracy: 0.9361481666564941\n",
            "\n",
            "Confusion Matrix:\n",
            "[[202 230 299 271 257]\n",
            " [243 283 334 301 261]\n",
            " [198 255 307 282 281]\n",
            " [226 275 327 287 285]\n",
            " [236 257 340 273 240]]\n",
            "\n",
            "Classification Report:\n",
            "              precision    recall  f1-score   support\n",
            "\n",
            "     Arborio       0.18      0.16      0.17      1259\n",
            "     Basmati       0.22      0.20      0.21      1422\n",
            "      Ipsala       0.19      0.23      0.21      1323\n",
            "     Jasmine       0.20      0.20      0.20      1400\n",
            "   Karacadag       0.18      0.18      0.18      1346\n",
            "\n",
            "    accuracy                           0.20      6750\n",
            "   macro avg       0.20      0.19      0.19      6750\n",
            "weighted avg       0.20      0.20      0.19      6750\n",
            "\n"
          ]
        }
      ],
      "source": [
        "# predictions on testing data\n",
        "test_result = model_vanilla.evaluate(test_generator, steps=len(test_generator))\n",
        "\n",
        "test_true = test_generator.classes\n",
        "predictions = model_vanilla.predict(test_generator, steps=len(test_generator))\n",
        "test_pred = np.argmax(predictions,axis=1)\n",
        "\n",
        "# Confusion matrix for validation data predictions\n",
        "conf_matrix_test = confusion_matrix(test_true, test_pred)\n",
        "\n",
        "# Classification report\n",
        "class_report_test = classification_report(test_true, test_pred, target_names=test_generator.class_indices.keys())\n",
        "\n",
        "# Print evaluation results\n",
        "print(\"Evaluation Results on testing data :\")\n",
        "print(\"Loss:\", test_result[0])\n",
        "print(\"Accuracy:\", test_result[1])\n",
        "\n",
        "# Print confusion matrix and classification report\n",
        "print(\"\\nConfusion Matrix:\")\n",
        "print(conf_matrix_test)\n",
        "\n",
        "print(\"\\nClassification Report:\")\n",
        "print(class_report_test)"
      ]
    },
    {
      "cell_type": "code",
      "execution_count": null,
      "metadata": {
        "colab": {
          "base_uri": "https://localhost:8080/"
        },
        "id": "lkDXmapeshte",
        "outputId": "c510679e-c5cc-45b7-9d8c-882c4a16c750"
      },
      "outputs": [
        {
          "output_type": "stream",
          "name": "stdout",
          "text": [
            "train accuracy :  0.984674870967865\n",
            "validation accuracy :  0.9361481666564941\n",
            "test accuracy :  0.9361481666564941\n"
          ]
        }
      ],
      "source": [
        "print('train accuracy : ',train_result[1])\n",
        "print('validation accuracy : ',val_result[1])\n",
        "print('test accuracy : ',test_result[1])"
      ]
    },
    {
      "cell_type": "markdown",
      "metadata": {
        "id": "siTPRiNOs7BN"
      },
      "source": [
        "### VGG16 Model building"
      ]
    },
    {
      "cell_type": "code",
      "execution_count": null,
      "metadata": {
        "id": "CWuxKNerZrPb"
      },
      "outputs": [],
      "source": [
        "from tensorflow.keras.applications import VGG16"
      ]
    },
    {
      "cell_type": "code",
      "execution_count": null,
      "metadata": {
        "colab": {
          "base_uri": "https://localhost:8080/"
        },
        "id": "TW9zjzQeGpoe",
        "outputId": "31d3e22b-b4cb-45f6-ea5b-20e42866d6af"
      },
      "outputs": [
        {
          "output_type": "stream",
          "name": "stdout",
          "text": [
            "Downloading data from https://storage.googleapis.com/tensorflow/keras-applications/vgg16/vgg16_weights_tf_dim_ordering_tf_kernels_notop.h5\n",
            "58889256/58889256 [==============================] - 0s 0us/step\n"
          ]
        }
      ],
      "source": [
        "# VGG-16 model with fine-tuning\n",
        "vgg16_base_model = VGG16(weights='imagenet', include_top=False, input_shape=(128, 128, 3))"
      ]
    },
    {
      "cell_type": "code",
      "execution_count": null,
      "metadata": {
        "id": "KFZkXES-tNC0"
      },
      "outputs": [],
      "source": [
        "# Freeze layers from the pre-trained model\n",
        "for layer in vgg16_base_model.layers:\n",
        "    layer.trainable = False"
      ]
    },
    {
      "cell_type": "code",
      "execution_count": null,
      "metadata": {
        "id": "3Yc9ZJrdtSZ4"
      },
      "outputs": [],
      "source": [
        "# Create a new model on top\n",
        "vgg16_finetuned_model = Sequential()\n",
        "vgg16_finetuned_model.add(vgg16_base_model)\n",
        "vgg16_finetuned_model.add(Flatten())\n",
        "vgg16_finetuned_model.add(Dense(256, activation='relu'))\n",
        "vgg16_finetuned_model.add(Dense(5, activation='softmax'))"
      ]
    },
    {
      "cell_type": "code",
      "execution_count": null,
      "metadata": {
        "id": "zPp2R3xqP4mF"
      },
      "outputs": [],
      "source": []
    },
    {
      "cell_type": "code",
      "execution_count": null,
      "metadata": {
        "id": "8k_mRL_1tkVB"
      },
      "outputs": [],
      "source": [
        "# Compile the VGG-16 finetuned model\n",
        "vgg16_finetuned_model.compile(optimizer=Adam(learning_rate=0.001), loss='categorical_crossentropy', metrics=['accuracy'])"
      ]
    },
    {
      "cell_type": "code",
      "execution_count": null,
      "metadata": {
        "colab": {
          "base_uri": "https://localhost:8080/"
        },
        "id": "L5qJcXy0B2D2",
        "outputId": "aaa6a788-fc72-4cff-822c-47936b84b2ce"
      },
      "outputs": [
        {
          "output_type": "stream",
          "name": "stdout",
          "text": [
            "Model: \"sequential_1\"\n",
            "_________________________________________________________________\n",
            " Layer (type)                Output Shape              Param #   \n",
            "=================================================================\n",
            " vgg16 (Functional)          (None, 4, 4, 512)         14714688  \n",
            "                                                                 \n",
            " flatten_1 (Flatten)         (None, 8192)              0         \n",
            "                                                                 \n",
            " dense_2 (Dense)             (None, 256)               2097408   \n",
            "                                                                 \n",
            " dense_3 (Dense)             (None, 5)                 1285      \n",
            "                                                                 \n",
            "=================================================================\n",
            "Total params: 16813381 (64.14 MB)\n",
            "Trainable params: 2098693 (8.01 MB)\n",
            "Non-trainable params: 14714688 (56.13 MB)\n",
            "_________________________________________________________________\n"
          ]
        }
      ],
      "source": [
        "vgg16_finetuned_model.summary()"
      ]
    },
    {
      "cell_type": "code",
      "execution_count": null,
      "metadata": {
        "id": "Ls-0j32eQEAY"
      },
      "outputs": [],
      "source": [
        "checkpoint_path = '/content/best_VGG16_model.h5'\n",
        "\n",
        "# Define the ModelCheckpoint callback\n",
        "checkpoint = ModelCheckpoint(\n",
        "    checkpoint_path,\n",
        "    monitor='val_loss',\n",
        "    save_best_only=True,\n",
        "    mode='min',\n",
        "    verbose=1\n",
        ")"
      ]
    },
    {
      "cell_type": "code",
      "execution_count": null,
      "metadata": {
        "colab": {
          "base_uri": "https://localhost:8080/"
        },
        "id": "SasLpLHstoz-",
        "outputId": "b96519fa-029d-4958-831b-c4e5c0532d20"
      },
      "outputs": [
        {
          "output_type": "stream",
          "name": "stderr",
          "text": [
            "<ipython-input-75-7031da49d030>:2: UserWarning: `Model.fit_generator` is deprecated and will be removed in a future version. Please use `Model.fit`, which supports generators.\n",
            "  vgg16_finetuned_model.fit_generator(train_generator,\n"
          ]
        },
        {
          "output_type": "stream",
          "name": "stdout",
          "text": [
            "1899/1899 [==============================] - ETA: 0s - loss: 0.1324 - accuracy: 0.9512\n",
            "Epoch 1: val_loss improved from inf to 0.04181, saving model to /content/best_VGG16_model.h5\n"
          ]
        },
        {
          "output_type": "stream",
          "name": "stderr",
          "text": [
            "/usr/local/lib/python3.10/dist-packages/keras/src/engine/training.py:3103: UserWarning: You are saving your model as an HDF5 file via `model.save()`. This file format is considered legacy. We recommend using instead the native Keras format, e.g. `model.save('my_model.keras')`.\n",
            "  saving_api.save_model(\n"
          ]
        },
        {
          "output_type": "stream",
          "name": "stdout",
          "text": [
            "\b\b\b\b\b\b\b\b\b\b\b\b\b\b\b\b\b\b\b\b\b\b\b\b\b\b\b\b\b\b\b\b\b\b\b\b\b\b\b\b\b\b\b\b\b\b\b\b\b\b\b\b\b\b\b\b\b\b\b\b\b\b\b\b\b\b\b\b\b\b\b\b\b\b\b\b\b\b\b\b\b\b\b\b\b\b\r1899/1899 [==============================] - 12752s 7s/step - loss: 0.1324 - accuracy: 0.9512 - val_loss: 0.0418 - val_accuracy: 0.9859\n"
          ]
        },
        {
          "output_type": "execute_result",
          "data": {
            "text/plain": [
              "<keras.src.callbacks.History at 0x79ded001ffa0>"
            ]
          },
          "metadata": {},
          "execution_count": 75
        }
      ],
      "source": [
        "# Train the VGG-16 finetuned model\n",
        "vgg16_finetuned_model.fit_generator(train_generator,\n",
        "                                    steps_per_epoch=len(train_generator),\n",
        "                                    epochs=1,\n",
        "                                    validation_data=val_generator,\n",
        "                                    validation_steps=len(val_generator),\n",
        "                                    callbacks=[checkpoint])"
      ]
    },
    {
      "cell_type": "code",
      "execution_count": null,
      "metadata": {
        "id": "kwBETO5zIQ5W",
        "colab": {
          "base_uri": "https://localhost:8080/",
          "height": 53
        },
        "outputId": "23a71588-0388-42ed-eba7-241ed4900237"
      },
      "outputs": [
        {
          "output_type": "execute_result",
          "data": {
            "text/plain": [
              "\" from tensorflow.keras.models import load_model\\n\\n# Specify the path to the uploaded .h5 file\\nmodel_path = '/content/best_VGG16_model.h5'\\n\\n# Load the model\\nvgg16_finetuned_model = load_model(model_path) \""
            ],
            "application/vnd.google.colaboratory.intrinsic+json": {
              "type": "string"
            }
          },
          "metadata": {},
          "execution_count": 77
        }
      ],
      "source": [
        "''' from tensorflow.keras.models import load_model\n",
        "\n",
        "# Specify the path to the uploaded .h5 file\n",
        "model_path = '/content/best_VGG16_model.h5'\n",
        "\n",
        "# Load the model\n",
        "vgg16_finetuned_model = load_model(model_path) '''"
      ]
    },
    {
      "cell_type": "code",
      "execution_count": null,
      "metadata": {
        "id": "fR5v6OG92AbT",
        "colab": {
          "base_uri": "https://localhost:8080/"
        },
        "outputId": "0234a2dd-90b4-4d6c-e530-6c278de43b8a"
      },
      "outputs": [
        {
          "output_type": "stream",
          "name": "stdout",
          "text": [
            "1899/1899 [==============================] - 11409s 6s/step - loss: 0.0672 - accuracy: 0.9758\n",
            "1899/1899 [==============================] - 11400s 6s/step\n",
            "\n",
            "\n",
            "Evaluation Results for test data -- VGG-16 Finetuned:\n",
            "Loss: 0.06716436892747879\n",
            "Accuracy: 0.975786030292511\n",
            "\n",
            "Confusion matrix : \n",
            "\n",
            "[[2415 2371 2458 2492 2526]\n",
            " [2356 2257 2397 2534 2509]\n",
            " [2480 2281 2405 2541 2441]\n",
            " [2429 2284 2428 2523 2433]\n",
            " [2381 2278 2416 2580 2535]]\n",
            "\\Classification Report : \n",
            "\n",
            "              precision    recall  f1-score   support\n",
            "\n",
            "           0       0.20      0.20      0.20     12262\n",
            "           1       0.20      0.19      0.19     12053\n",
            "           2       0.20      0.20      0.20     12148\n",
            "           3       0.20      0.21      0.20     12097\n",
            "           4       0.20      0.21      0.21     12190\n",
            "\n",
            "    accuracy                           0.20     60750\n",
            "   macro avg       0.20      0.20      0.20     60750\n",
            "weighted avg       0.20      0.20      0.20     60750\n",
            "\n"
          ]
        }
      ],
      "source": [
        "# Evaluate the VGG-16 finetuned model on the train set\n",
        "vgg16_finetuned_train_result = vgg16_finetuned_model.evaluate(train_generator, steps=len(train_generator))\n",
        "\n",
        "train_true = train_generator.classes\n",
        "\n",
        "# Make predictions with the VGG-16 finetuned model -- for train data\n",
        "vgg16_finetuned_predictions = vgg16_finetuned_model.predict(train_generator, steps=len(train_generator))\n",
        "vgg16_finetuned_pred_labels = np.argmax(vgg16_finetuned_predictions, axis=1)\n",
        "\n",
        "# Confusion matrix for VGG-16 finetuned model -- for train data\n",
        "vgg16_finetuned_conf_matrix = confusion_matrix(train_true, vgg16_finetuned_pred_labels)\n",
        "\n",
        "# Classification report for VGG-16 finetuned model -- for train data\n",
        "vgg16_finetuned_class_report = classification_report(train_true, vgg16_finetuned_pred_labels)\n",
        "\n",
        "# Print evaluation results for VGG-16 finetuned model -- for train data\n",
        "print(\"\\n\\nEvaluation Results for test data -- VGG-16 Finetuned:\")\n",
        "print(\"Loss:\", vgg16_finetuned_train_result[0])\n",
        "print(\"Accuracy:\", vgg16_finetuned_train_result[1])\n",
        "\n",
        "print(\"\\nConfusion matrix : \\n\")\n",
        "print(vgg16_finetuned_conf_matrix)\n",
        "\n",
        "print(\"\\Classification Report : \\n\")\n",
        "print(vgg16_finetuned_class_report)"
      ]
    },
    {
      "cell_type": "markdown",
      "source": [
        "### Evaluated the VGG16 model in ` VGG16modelEval.ipynb `  file but concluded some points here ."
      ],
      "metadata": {
        "id": "MmotPo0MJOeF"
      }
    },
    {
      "cell_type": "markdown",
      "source": [
        "## Observarions :       \n",
        "\n",
        "-  As the provided data is equally balanced among all classes and already in gray scale both the vanilla CNN and VGG16 models built on the given data performed very well with really good accuracy .\n",
        "-  Also when this data considered in real time it is not so necessary to use VGG16 model , the traditional CNN model itself is sufficient , considering the depth of the VGG16 network and also it is taking more time to get trained than the vanilla CNN model .\n",
        "-  Also when the best models of each network were saved VGG16 model occupied nearly 2 times the memory that was occupied by vanilla CNN model . So as performance already good with vanilla CNN model it will be sufficient .\n",
        "-  Also with the given dataset over fitting chances are high in both models so it is better to add a regularization layer like Dropout layer .\n",
        "-  In future scope some more wide varieties of rice grain images can be included in the dataset adding even more classes so that in real time the rice grain quality and class can be easily predicted ."
      ],
      "metadata": {
        "id": "V9m7y0M2Jqsi"
      }
    },
    {
      "cell_type": "markdown",
      "source": [
        "##  Conclusion :    \n",
        "\n",
        "-  By accurately classifying rice varieties , the system can assist in seed selection and breeding programs , aiding farmers and researchers in developing improved and high-yielding rice varieties .\n",
        "-  Ensuring the accuracy of rice labeling and packaging helps maintain food safety standards and provides consumers with assurance about the authenticity and quality of the city they purchase ."
      ],
      "metadata": {
        "id": "LQFnlm3NMEGI"
      }
    }
  ],
  "metadata": {
    "colab": {
      "provenance": []
    },
    "kernelspec": {
      "display_name": "Python 3",
      "name": "python3"
    },
    "language_info": {
      "name": "python"
    }
  },
  "nbformat": 4,
  "nbformat_minor": 0
}