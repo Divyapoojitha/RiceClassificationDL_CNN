{
  "nbformat": 4,
  "nbformat_minor": 0,
  "metadata": {
    "colab": {
      "provenance": []
    },
    "kernelspec": {
      "name": "python3",
      "display_name": "Python 3"
    },
    "language_info": {
      "name": "python"
    }
  },
  "cells": [
    {
      "cell_type": "markdown",
      "metadata": {
        "id": "rRIcbZKz7y5q"
      },
      "source": [
        "### Extracting image folders from zip file placed in drive"
      ]
    },
    {
      "cell_type": "code",
      "execution_count": null,
      "metadata": {
        "colab": {
          "base_uri": "https://localhost:8080/"
        },
        "id": "NbP-hnwEs6KY",
        "outputId": "60ea048b-7a47-433d-a6b1-d67eb90edb52"
      },
      "outputs": [
        {
          "output_type": "stream",
          "name": "stdout",
          "text": [
            "Drive already mounted at /content/drive; to attempt to forcibly remount, call drive.mount(\"/content/drive\", force_remount=True).\n"
          ]
        }
      ],
      "source": [
        "from google.colab import drive\n",
        "drive.mount('/content/drive',timeout_ms=300000)"
      ]
    },
    {
      "cell_type": "code",
      "execution_count": null,
      "metadata": {
        "id": "zdiOxNBSxrz6"
      },
      "outputs": [],
      "source": [
        "zip_path = '/content/drive/MyDrive/Rice_Image_Dataset/RCD.zip.zip'\n",
        "\n",
        "import zipfile\n",
        "\n",
        "with zipfile.ZipFile(zip_path, 'r') as zip_ref:\n",
        "    zip_ref.extractall('/content/rice_varieties')"
      ]
    },
    {
      "cell_type": "markdown",
      "metadata": {
        "id": "-_bXYyHswyUu"
      },
      "source": [
        "### Importing data"
      ]
    },
    {
      "cell_type": "code",
      "execution_count": null,
      "metadata": {
        "id": "Ntk64ISrMrBe"
      },
      "outputs": [],
      "source": [
        "import os\n",
        "import cv2\n",
        "import numpy as np\n",
        "import pandas as pd"
      ]
    },
    {
      "cell_type": "code",
      "execution_count": null,
      "metadata": {
        "id": "3ftClb-5MwXX"
      },
      "outputs": [],
      "source": [
        "dataset_folder = '/content/rice_varieties'"
      ]
    },
    {
      "cell_type": "code",
      "execution_count": null,
      "metadata": {
        "id": "-olPkW04M4Nf"
      },
      "outputs": [],
      "source": [
        "# List to store image paths and corresponding labels\n",
        "image_paths = []\n",
        "labels = []"
      ]
    },
    {
      "cell_type": "code",
      "execution_count": null,
      "metadata": {
        "id": "439NquizPHRI"
      },
      "outputs": [],
      "source": [
        "for variety_folder in os.listdir(dataset_folder):\n",
        "    variety_path = os.path.join(dataset_folder, variety_folder)\n",
        "\n",
        "    # Loop through each image in the variety folder\n",
        "    for image_file in os.listdir(variety_path):\n",
        "        image_path = os.path.join(variety_path, image_file)\n",
        "\n",
        "        # Use OpenCV to read the image\n",
        "        image = cv2.imread(image_path)\n",
        "\n",
        "        # Check if the image is successfully read\n",
        "        if image is not None:\n",
        "            # Resize the image\n",
        "            image = cv2.resize(image, (128, 128))\n",
        "\n",
        "            # Append the image path and label to the lists\n",
        "            image_paths.append(image_path)\n",
        "            labels.append(variety_folder)\n",
        "        else:\n",
        "            print(f\"Warning: Unable to read image at {image_path}\")"
      ]
    },
    {
      "cell_type": "code",
      "execution_count": null,
      "metadata": {
        "id": "3O4e7F2rNSpz"
      },
      "outputs": [],
      "source": [
        "# Create a DataFrame to store image paths and labels\n",
        "data = pd.DataFrame({'image_path': image_paths, 'label': labels})"
      ]
    },
    {
      "cell_type": "code",
      "execution_count": null,
      "metadata": {
        "colab": {
          "base_uri": "https://localhost:8080/"
        },
        "id": "jfLTwsMPNWro",
        "outputId": "6fb4130f-cd2a-48e2-b86c-5c65b385005e"
      },
      "outputs": [
        {
          "output_type": "stream",
          "name": "stdout",
          "text": [
            "                                          image_path    label\n",
            "0  /content/rice_varieties/Basmati/basmati (12138...  Basmati\n",
            "1  /content/rice_varieties/Basmati/basmati (13943...  Basmati\n",
            "2  /content/rice_varieties/Basmati/basmati (9253)...  Basmati\n",
            "3  /content/rice_varieties/Basmati/basmati (10391...  Basmati\n",
            "4  /content/rice_varieties/Basmati/basmati (8208)...  Basmati\n"
          ]
        }
      ],
      "source": [
        "# Display the first few rows of the DataFrame\n",
        "print(data.head())"
      ]
    },
    {
      "cell_type": "code",
      "execution_count": null,
      "metadata": {
        "colab": {
          "base_uri": "https://localhost:8080/"
        },
        "id": "MNzazJdK31Uj",
        "outputId": "f2471e01-b26b-445d-bafe-cd11f4ea0105"
      },
      "outputs": [
        {
          "output_type": "execute_result",
          "data": {
            "text/plain": [
              "(75000, 2)"
            ]
          },
          "metadata": {},
          "execution_count": 56
        }
      ],
      "source": [
        "data.shape"
      ]
    },
    {
      "cell_type": "code",
      "execution_count": null,
      "metadata": {
        "id": "eVx_TbCV3EJo"
      },
      "outputs": [],
      "source": [
        "import os\n",
        "import pandas as pd\n",
        "\n",
        "invalid_filenames = []\n",
        "\n",
        "for idx, row in data.iterrows():\n",
        "    image_path = row['image_path']\n",
        "    if not os.path.isfile(image_path):\n",
        "        invalid_filenames.append(image_path)"
      ]
    },
    {
      "cell_type": "code",
      "execution_count": null,
      "metadata": {
        "colab": {
          "base_uri": "https://localhost:8080/"
        },
        "id": "z-YRZwF83D-c",
        "outputId": "08117930-6d33-4f48-d9aa-ef5cec5eb7cc"
      },
      "outputs": [
        {
          "output_type": "execute_result",
          "data": {
            "text/plain": [
              "0"
            ]
          },
          "metadata": {},
          "execution_count": 58
        }
      ],
      "source": [
        "len(invalid_filenames)"
      ]
    },
    {
      "cell_type": "markdown",
      "metadata": {
        "id": "MTotWqxt6gaj"
      },
      "source": [
        "## converting the dataset containing paths and labels into .csv and storing in drive"
      ]
    },
    {
      "cell_type": "code",
      "execution_count": null,
      "metadata": {
        "colab": {
          "base_uri": "https://localhost:8080/"
        },
        "id": "hMmSfP4YU4Mn",
        "outputId": "ca1478e0-3bc2-480f-bbad-166e3e2b63ea"
      },
      "outputs": [
        {
          "output_type": "stream",
          "name": "stdout",
          "text": [
            "Dataset saved to /content/riceImagePaths.csv\n"
          ]
        }
      ],
      "source": [
        "csv_path = '/content/riceImagePaths.csv'\n",
        "\n",
        "# Save the DataFrame to a CSV file\n",
        "data.to_csv(csv_path, index=False)\n",
        "\n",
        "print(f'Dataset saved to {csv_path}')"
      ]
    },
    {
      "cell_type": "code",
      "execution_count": null,
      "metadata": {
        "colab": {
          "base_uri": "https://localhost:8080/"
        },
        "id": "tWFwsqbGXOzy",
        "outputId": "e23d72e2-4dc1-409f-ec21-22019a9b4483"
      },
      "outputs": [
        {
          "output_type": "execute_result",
          "data": {
            "text/plain": [
              "(75000, 2)"
            ]
          },
          "metadata": {},
          "execution_count": 60
        }
      ],
      "source": [
        "dataset = pd.read_csv(csv_path)\n",
        "dataset.shape"
      ]
    },
    {
      "cell_type": "code",
      "execution_count": null,
      "metadata": {
        "colab": {
          "base_uri": "https://localhost:8080/"
        },
        "id": "r0qwTxS7PHOT",
        "outputId": "824b2ff6-948f-4897-c9ca-75624828710d"
      },
      "outputs": [
        {
          "output_type": "execute_result",
          "data": {
            "text/plain": [
              "15000"
            ]
          },
          "metadata": {},
          "execution_count": 61
        }
      ],
      "source": [
        "len(dataset[dataset.label=='Arborio'])"
      ]
    },
    {
      "cell_type": "code",
      "execution_count": null,
      "metadata": {
        "colab": {
          "base_uri": "https://localhost:8080/"
        },
        "id": "6xbnVYB8PHJw",
        "outputId": "eeb40dac-c9a2-492e-cb06-6e77feff99ce"
      },
      "outputs": [
        {
          "output_type": "execute_result",
          "data": {
            "text/plain": [
              "15000"
            ]
          },
          "metadata": {},
          "execution_count": 62
        }
      ],
      "source": [
        "len(dataset[dataset.label=='Basmati'])"
      ]
    },
    {
      "cell_type": "code",
      "execution_count": null,
      "metadata": {
        "colab": {
          "base_uri": "https://localhost:8080/"
        },
        "id": "yDW-jUJiPHH7",
        "outputId": "bf7a2748-6abc-4eb6-ddaa-f77ef2740192"
      },
      "outputs": [
        {
          "output_type": "execute_result",
          "data": {
            "text/plain": [
              "15000"
            ]
          },
          "metadata": {},
          "execution_count": 63
        }
      ],
      "source": [
        "len(dataset[dataset.label=='Ipsala'])"
      ]
    },
    {
      "cell_type": "code",
      "execution_count": null,
      "metadata": {
        "colab": {
          "base_uri": "https://localhost:8080/"
        },
        "id": "4ifaRtybPHDy",
        "outputId": "84bc6afe-ead9-4ac3-aacd-2ad6c7d2f2a4"
      },
      "outputs": [
        {
          "output_type": "execute_result",
          "data": {
            "text/plain": [
              "15000"
            ]
          },
          "metadata": {},
          "execution_count": 64
        }
      ],
      "source": [
        "len(dataset[dataset.label=='Jasmine'])"
      ]
    },
    {
      "cell_type": "code",
      "execution_count": null,
      "metadata": {
        "colab": {
          "base_uri": "https://localhost:8080/"
        },
        "id": "_v1MpN_tPHBx",
        "outputId": "57510fa7-5317-4177-efcf-303f34f29854"
      },
      "outputs": [
        {
          "output_type": "execute_result",
          "data": {
            "text/plain": [
              "15000"
            ]
          },
          "metadata": {},
          "execution_count": 65
        }
      ],
      "source": [
        "len(dataset[dataset.label=='Karacadag'])"
      ]
    },
    {
      "cell_type": "markdown",
      "metadata": {
        "id": "CgX0a0YB8SaD"
      },
      "source": [
        "### Data Preprocessing"
      ]
    },
    {
      "cell_type": "code",
      "execution_count": null,
      "metadata": {
        "id": "yhZdSWq8_NsE"
      },
      "outputs": [],
      "source": [
        "from sklearn.model_selection import train_test_split\n",
        "from tensorflow.keras.preprocessing.image import ImageDataGenerator"
      ]
    },
    {
      "cell_type": "code",
      "execution_count": null,
      "metadata": {
        "colab": {
          "base_uri": "https://localhost:8080/",
          "height": 143
        },
        "id": "pikTMwqD_iEL",
        "outputId": "809deaf3-58d2-42f1-8b75-279b82b85e47"
      },
      "outputs": [
        {
          "output_type": "execute_result",
          "data": {
            "text/plain": [
              "                                          image_path    label\n",
              "0  /content/rice_varieties/Basmati/basmati (12138...  Basmati\n",
              "1  /content/rice_varieties/Basmati/basmati (13943...  Basmati\n",
              "2  /content/rice_varieties/Basmati/basmati (9253)...  Basmati"
            ],
            "text/html": [
              "\n",
              "  <div id=\"df-1a5027e3-ee82-46e1-8fe1-013e7b7f6097\" class=\"colab-df-container\">\n",
              "    <div>\n",
              "<style scoped>\n",
              "    .dataframe tbody tr th:only-of-type {\n",
              "        vertical-align: middle;\n",
              "    }\n",
              "\n",
              "    .dataframe tbody tr th {\n",
              "        vertical-align: top;\n",
              "    }\n",
              "\n",
              "    .dataframe thead th {\n",
              "        text-align: right;\n",
              "    }\n",
              "</style>\n",
              "<table border=\"1\" class=\"dataframe\">\n",
              "  <thead>\n",
              "    <tr style=\"text-align: right;\">\n",
              "      <th></th>\n",
              "      <th>image_path</th>\n",
              "      <th>label</th>\n",
              "    </tr>\n",
              "  </thead>\n",
              "  <tbody>\n",
              "    <tr>\n",
              "      <th>0</th>\n",
              "      <td>/content/rice_varieties/Basmati/basmati (12138...</td>\n",
              "      <td>Basmati</td>\n",
              "    </tr>\n",
              "    <tr>\n",
              "      <th>1</th>\n",
              "      <td>/content/rice_varieties/Basmati/basmati (13943...</td>\n",
              "      <td>Basmati</td>\n",
              "    </tr>\n",
              "    <tr>\n",
              "      <th>2</th>\n",
              "      <td>/content/rice_varieties/Basmati/basmati (9253)...</td>\n",
              "      <td>Basmati</td>\n",
              "    </tr>\n",
              "  </tbody>\n",
              "</table>\n",
              "</div>\n",
              "    <div class=\"colab-df-buttons\">\n",
              "\n",
              "  <div class=\"colab-df-container\">\n",
              "    <button class=\"colab-df-convert\" onclick=\"convertToInteractive('df-1a5027e3-ee82-46e1-8fe1-013e7b7f6097')\"\n",
              "            title=\"Convert this dataframe to an interactive table.\"\n",
              "            style=\"display:none;\">\n",
              "\n",
              "  <svg xmlns=\"http://www.w3.org/2000/svg\" height=\"24px\" viewBox=\"0 -960 960 960\">\n",
              "    <path d=\"M120-120v-720h720v720H120Zm60-500h600v-160H180v160Zm220 220h160v-160H400v160Zm0 220h160v-160H400v160ZM180-400h160v-160H180v160Zm440 0h160v-160H620v160ZM180-180h160v-160H180v160Zm440 0h160v-160H620v160Z\"/>\n",
              "  </svg>\n",
              "    </button>\n",
              "\n",
              "  <style>\n",
              "    .colab-df-container {\n",
              "      display:flex;\n",
              "      gap: 12px;\n",
              "    }\n",
              "\n",
              "    .colab-df-convert {\n",
              "      background-color: #E8F0FE;\n",
              "      border: none;\n",
              "      border-radius: 50%;\n",
              "      cursor: pointer;\n",
              "      display: none;\n",
              "      fill: #1967D2;\n",
              "      height: 32px;\n",
              "      padding: 0 0 0 0;\n",
              "      width: 32px;\n",
              "    }\n",
              "\n",
              "    .colab-df-convert:hover {\n",
              "      background-color: #E2EBFA;\n",
              "      box-shadow: 0px 1px 2px rgba(60, 64, 67, 0.3), 0px 1px 3px 1px rgba(60, 64, 67, 0.15);\n",
              "      fill: #174EA6;\n",
              "    }\n",
              "\n",
              "    .colab-df-buttons div {\n",
              "      margin-bottom: 4px;\n",
              "    }\n",
              "\n",
              "    [theme=dark] .colab-df-convert {\n",
              "      background-color: #3B4455;\n",
              "      fill: #D2E3FC;\n",
              "    }\n",
              "\n",
              "    [theme=dark] .colab-df-convert:hover {\n",
              "      background-color: #434B5C;\n",
              "      box-shadow: 0px 1px 3px 1px rgba(0, 0, 0, 0.15);\n",
              "      filter: drop-shadow(0px 1px 2px rgba(0, 0, 0, 0.3));\n",
              "      fill: #FFFFFF;\n",
              "    }\n",
              "  </style>\n",
              "\n",
              "    <script>\n",
              "      const buttonEl =\n",
              "        document.querySelector('#df-1a5027e3-ee82-46e1-8fe1-013e7b7f6097 button.colab-df-convert');\n",
              "      buttonEl.style.display =\n",
              "        google.colab.kernel.accessAllowed ? 'block' : 'none';\n",
              "\n",
              "      async function convertToInteractive(key) {\n",
              "        const element = document.querySelector('#df-1a5027e3-ee82-46e1-8fe1-013e7b7f6097');\n",
              "        const dataTable =\n",
              "          await google.colab.kernel.invokeFunction('convertToInteractive',\n",
              "                                                    [key], {});\n",
              "        if (!dataTable) return;\n",
              "\n",
              "        const docLinkHtml = 'Like what you see? Visit the ' +\n",
              "          '<a target=\"_blank\" href=https://colab.research.google.com/notebooks/data_table.ipynb>data table notebook</a>'\n",
              "          + ' to learn more about interactive tables.';\n",
              "        element.innerHTML = '';\n",
              "        dataTable['output_type'] = 'display_data';\n",
              "        await google.colab.output.renderOutput(dataTable, element);\n",
              "        const docLink = document.createElement('div');\n",
              "        docLink.innerHTML = docLinkHtml;\n",
              "        element.appendChild(docLink);\n",
              "      }\n",
              "    </script>\n",
              "  </div>\n",
              "\n",
              "\n",
              "<div id=\"df-1a158e5d-c49d-4b01-afad-815adb4faf2a\">\n",
              "  <button class=\"colab-df-quickchart\" onclick=\"quickchart('df-1a158e5d-c49d-4b01-afad-815adb4faf2a')\"\n",
              "            title=\"Suggest charts\"\n",
              "            style=\"display:none;\">\n",
              "\n",
              "<svg xmlns=\"http://www.w3.org/2000/svg\" height=\"24px\"viewBox=\"0 0 24 24\"\n",
              "     width=\"24px\">\n",
              "    <g>\n",
              "        <path d=\"M19 3H5c-1.1 0-2 .9-2 2v14c0 1.1.9 2 2 2h14c1.1 0 2-.9 2-2V5c0-1.1-.9-2-2-2zM9 17H7v-7h2v7zm4 0h-2V7h2v10zm4 0h-2v-4h2v4z\"/>\n",
              "    </g>\n",
              "</svg>\n",
              "  </button>\n",
              "\n",
              "<style>\n",
              "  .colab-df-quickchart {\n",
              "      --bg-color: #E8F0FE;\n",
              "      --fill-color: #1967D2;\n",
              "      --hover-bg-color: #E2EBFA;\n",
              "      --hover-fill-color: #174EA6;\n",
              "      --disabled-fill-color: #AAA;\n",
              "      --disabled-bg-color: #DDD;\n",
              "  }\n",
              "\n",
              "  [theme=dark] .colab-df-quickchart {\n",
              "      --bg-color: #3B4455;\n",
              "      --fill-color: #D2E3FC;\n",
              "      --hover-bg-color: #434B5C;\n",
              "      --hover-fill-color: #FFFFFF;\n",
              "      --disabled-bg-color: #3B4455;\n",
              "      --disabled-fill-color: #666;\n",
              "  }\n",
              "\n",
              "  .colab-df-quickchart {\n",
              "    background-color: var(--bg-color);\n",
              "    border: none;\n",
              "    border-radius: 50%;\n",
              "    cursor: pointer;\n",
              "    display: none;\n",
              "    fill: var(--fill-color);\n",
              "    height: 32px;\n",
              "    padding: 0;\n",
              "    width: 32px;\n",
              "  }\n",
              "\n",
              "  .colab-df-quickchart:hover {\n",
              "    background-color: var(--hover-bg-color);\n",
              "    box-shadow: 0 1px 2px rgba(60, 64, 67, 0.3), 0 1px 3px 1px rgba(60, 64, 67, 0.15);\n",
              "    fill: var(--button-hover-fill-color);\n",
              "  }\n",
              "\n",
              "  .colab-df-quickchart-complete:disabled,\n",
              "  .colab-df-quickchart-complete:disabled:hover {\n",
              "    background-color: var(--disabled-bg-color);\n",
              "    fill: var(--disabled-fill-color);\n",
              "    box-shadow: none;\n",
              "  }\n",
              "\n",
              "  .colab-df-spinner {\n",
              "    border: 2px solid var(--fill-color);\n",
              "    border-color: transparent;\n",
              "    border-bottom-color: var(--fill-color);\n",
              "    animation:\n",
              "      spin 1s steps(1) infinite;\n",
              "  }\n",
              "\n",
              "  @keyframes spin {\n",
              "    0% {\n",
              "      border-color: transparent;\n",
              "      border-bottom-color: var(--fill-color);\n",
              "      border-left-color: var(--fill-color);\n",
              "    }\n",
              "    20% {\n",
              "      border-color: transparent;\n",
              "      border-left-color: var(--fill-color);\n",
              "      border-top-color: var(--fill-color);\n",
              "    }\n",
              "    30% {\n",
              "      border-color: transparent;\n",
              "      border-left-color: var(--fill-color);\n",
              "      border-top-color: var(--fill-color);\n",
              "      border-right-color: var(--fill-color);\n",
              "    }\n",
              "    40% {\n",
              "      border-color: transparent;\n",
              "      border-right-color: var(--fill-color);\n",
              "      border-top-color: var(--fill-color);\n",
              "    }\n",
              "    60% {\n",
              "      border-color: transparent;\n",
              "      border-right-color: var(--fill-color);\n",
              "    }\n",
              "    80% {\n",
              "      border-color: transparent;\n",
              "      border-right-color: var(--fill-color);\n",
              "      border-bottom-color: var(--fill-color);\n",
              "    }\n",
              "    90% {\n",
              "      border-color: transparent;\n",
              "      border-bottom-color: var(--fill-color);\n",
              "    }\n",
              "  }\n",
              "</style>\n",
              "\n",
              "  <script>\n",
              "    async function quickchart(key) {\n",
              "      const quickchartButtonEl =\n",
              "        document.querySelector('#' + key + ' button');\n",
              "      quickchartButtonEl.disabled = true;  // To prevent multiple clicks.\n",
              "      quickchartButtonEl.classList.add('colab-df-spinner');\n",
              "      try {\n",
              "        const charts = await google.colab.kernel.invokeFunction(\n",
              "            'suggestCharts', [key], {});\n",
              "      } catch (error) {\n",
              "        console.error('Error during call to suggestCharts:', error);\n",
              "      }\n",
              "      quickchartButtonEl.classList.remove('colab-df-spinner');\n",
              "      quickchartButtonEl.classList.add('colab-df-quickchart-complete');\n",
              "    }\n",
              "    (() => {\n",
              "      let quickchartButtonEl =\n",
              "        document.querySelector('#df-1a158e5d-c49d-4b01-afad-815adb4faf2a button');\n",
              "      quickchartButtonEl.style.display =\n",
              "        google.colab.kernel.accessAllowed ? 'block' : 'none';\n",
              "    })();\n",
              "  </script>\n",
              "</div>\n",
              "\n",
              "    </div>\n",
              "  </div>\n"
            ]
          },
          "metadata": {},
          "execution_count": 67
        }
      ],
      "source": [
        "dataset.head(3)"
      ]
    },
    {
      "cell_type": "code",
      "execution_count": null,
      "metadata": {
        "id": "5M8i_-3W_pa5"
      },
      "outputs": [],
      "source": [
        "# Split the data into training and testing sets\n",
        "train_data, test_data = train_test_split(dataset, test_size=0.1, random_state=32)"
      ]
    },
    {
      "cell_type": "code",
      "execution_count": null,
      "metadata": {
        "id": "gTi2WJdfMinP"
      },
      "outputs": [],
      "source": [
        "# Split the data into training and validation sets\n",
        "train_data, val_data = train_test_split(train_data , test_size=0.1, random_state=32)"
      ]
    },
    {
      "cell_type": "code",
      "execution_count": null,
      "metadata": {
        "id": "lmTyp6jo_u_J"
      },
      "outputs": [],
      "source": [
        "# Create an ImageDataGenerator for training data with data augmentation\n",
        "train_datagen = ImageDataGenerator(\n",
        "    rescale=1./255,            # Normalize pixel values\n",
        "    shear_range=0.2,           # Shear intensity\n",
        "    zoom_range=0.2,            # Zoom range\n",
        "    horizontal_flip=True       # Horizontal flip\n",
        ")"
      ]
    },
    {
      "cell_type": "code",
      "execution_count": null,
      "metadata": {
        "id": "7Y19X4D9WJRa"
      },
      "outputs": [],
      "source": [
        "# Create an ImageDataGenerator for validation data (only normalization)\n",
        "val_datagen = ImageDataGenerator(rescale=1./255)"
      ]
    },
    {
      "cell_type": "code",
      "execution_count": null,
      "metadata": {
        "id": "kYoz5_zXM4Js"
      },
      "outputs": [],
      "source": [
        "# Create an ImageDataGenerator for test data (only normalization)\n",
        "test_datagen = ImageDataGenerator(rescale=1./255)"
      ]
    },
    {
      "cell_type": "code",
      "execution_count": null,
      "metadata": {
        "id": "UE9B_Fv0WO1E"
      },
      "outputs": [],
      "source": [
        "# Define batch size\n",
        "batch_size = 32"
      ]
    },
    {
      "cell_type": "code",
      "execution_count": null,
      "metadata": {
        "id": "h0-8NEmqj73r"
      },
      "outputs": [],
      "source": [
        "image_size = (128,128)"
      ]
    },
    {
      "cell_type": "code",
      "execution_count": null,
      "metadata": {
        "colab": {
          "base_uri": "https://localhost:8080/"
        },
        "id": "piT2ucsiWRbE",
        "outputId": "02116b1a-6350-4890-f852-cb5bb6f93cce"
      },
      "outputs": [
        {
          "output_type": "stream",
          "name": "stdout",
          "text": [
            "Found 60750 validated image filenames belonging to 5 classes.\n"
          ]
        }
      ],
      "source": [
        "# Create the train generator\n",
        "train_generator = train_datagen.flow_from_dataframe(\n",
        "    dataframe=train_data,\n",
        "    x_col='image_path',\n",
        "    y_col='label',\n",
        "    target_size=image_size,\n",
        "    batch_size=batch_size,\n",
        "    class_mode='categorical'\n",
        ")"
      ]
    },
    {
      "cell_type": "code",
      "execution_count": null,
      "metadata": {
        "colab": {
          "base_uri": "https://localhost:8080/"
        },
        "id": "4jLBvLxsVG6E",
        "outputId": "f0042f2b-72de-4102-ec78-27c637c6519b"
      },
      "outputs": [
        {
          "output_type": "stream",
          "name": "stdout",
          "text": [
            "Found 6750 validated image filenames belonging to 5 classes.\n"
          ]
        }
      ],
      "source": [
        "# Create the validation generator\n",
        "val_generator = val_datagen.flow_from_dataframe(\n",
        "    dataframe=val_data,\n",
        "    x_col='image_path',\n",
        "    y_col='label',\n",
        "    target_size=image_size,\n",
        "    batch_size=batch_size,\n",
        "    class_mode='categorical'   # Use 'categorical' for multi-class classification\n",
        ")"
      ]
    },
    {
      "cell_type": "code",
      "execution_count": null,
      "metadata": {
        "colab": {
          "base_uri": "https://localhost:8080/"
        },
        "id": "jpItDs5KNIHt",
        "outputId": "31c641e5-13df-4d47-a8e9-8fc99ac0f67f"
      },
      "outputs": [
        {
          "output_type": "stream",
          "name": "stdout",
          "text": [
            "Found 6750 validated image filenames belonging to 5 classes.\n"
          ]
        }
      ],
      "source": [
        "# Create the validation generator\n",
        "test_generator = test_datagen.flow_from_dataframe(\n",
        "    dataframe=val_data,\n",
        "    x_col='image_path',\n",
        "    y_col='label',\n",
        "    target_size=image_size,\n",
        "    batch_size=batch_size,\n",
        "    class_mode='categorical'   # Use 'categorical' for multi-class classification\n",
        ")"
      ]
    },
    {
      "cell_type": "code",
      "execution_count": null,
      "metadata": {
        "colab": {
          "base_uri": "https://localhost:8080/"
        },
        "id": "NjYQsunIlbyE",
        "outputId": "50a7d6e4-1adb-4d81-a4af-2fe25caa707a"
      },
      "outputs": [
        {
          "output_type": "execute_result",
          "data": {
            "text/plain": [
              "{'Arborio': 0, 'Basmati': 1, 'Ipsala': 2, 'Jasmine': 3, 'Karacadag': 4}"
            ]
          },
          "metadata": {},
          "execution_count": 78
        }
      ],
      "source": [
        "train_generator.class_indices"
      ]
    },
    {
      "cell_type": "code",
      "execution_count": null,
      "metadata": {
        "colab": {
          "base_uri": "https://localhost:8080/"
        },
        "id": "4NwtYdS7lbvL",
        "outputId": "1acb28e1-523a-48bd-c08c-6bb2f270da8a"
      },
      "outputs": [
        {
          "output_type": "execute_result",
          "data": {
            "text/plain": [
              "{'Arborio': 0, 'Basmati': 1, 'Ipsala': 2, 'Jasmine': 3, 'Karacadag': 4}"
            ]
          },
          "metadata": {},
          "execution_count": 79
        }
      ],
      "source": [
        "val_generator.class_indices"
      ]
    },
    {
      "cell_type": "code",
      "execution_count": null,
      "metadata": {
        "colab": {
          "base_uri": "https://localhost:8080/"
        },
        "id": "irjdA06tNRit",
        "outputId": "91f94429-2e56-4e27-ee17-bc8fa58e3e1a"
      },
      "outputs": [
        {
          "output_type": "execute_result",
          "data": {
            "text/plain": [
              "{'Arborio': 0, 'Basmati': 1, 'Ipsala': 2, 'Jasmine': 3, 'Karacadag': 4}"
            ]
          },
          "metadata": {},
          "execution_count": 80
        }
      ],
      "source": [
        "test_generator.class_indices"
      ]
    },
    {
      "cell_type": "code",
      "execution_count": null,
      "metadata": {
        "colab": {
          "base_uri": "https://localhost:8080/"
        },
        "id": "lHKQrDOBlnJ7",
        "outputId": "5106edb1-d1c0-4d72-b1b5-fce588cbcc51"
      },
      "outputs": [
        {
          "output_type": "execute_result",
          "data": {
            "text/plain": [
              "(32, 128, 128, 3)"
            ]
          },
          "metadata": {},
          "execution_count": 81
        }
      ],
      "source": [
        "next(train_generator)[0].shape"
      ]
    },
    {
      "cell_type": "code",
      "execution_count": null,
      "metadata": {
        "colab": {
          "base_uri": "https://localhost:8080/"
        },
        "id": "WdbT-qmymkg3",
        "outputId": "d5d2effe-8494-41a5-dd32-0c2590ad8a8e"
      },
      "outputs": [
        {
          "output_type": "execute_result",
          "data": {
            "text/plain": [
              "(32, 5)"
            ]
          },
          "metadata": {},
          "execution_count": 82
        }
      ],
      "source": [
        "next(train_generator)[1].shape"
      ]
    },
    {
      "cell_type": "code",
      "execution_count": null,
      "metadata": {
        "colab": {
          "base_uri": "https://localhost:8080/"
        },
        "id": "tJrYwOIKmePy",
        "outputId": "813f6e99-7b13-4295-856e-c2a232e1c82e"
      },
      "outputs": [
        {
          "output_type": "execute_result",
          "data": {
            "text/plain": [
              "(32, 128, 128, 3)"
            ]
          },
          "metadata": {},
          "execution_count": 83
        }
      ],
      "source": [
        "next(val_generator)[0].shape"
      ]
    },
    {
      "cell_type": "code",
      "execution_count": null,
      "metadata": {
        "colab": {
          "base_uri": "https://localhost:8080/"
        },
        "id": "mZHPNQJAmvat",
        "outputId": "4c74e21f-cdf6-46ab-cd8c-df16666fd741"
      },
      "outputs": [
        {
          "output_type": "execute_result",
          "data": {
            "text/plain": [
              "(32, 5)"
            ]
          },
          "metadata": {},
          "execution_count": 84
        }
      ],
      "source": [
        "next(val_generator)[1].shape"
      ]
    },
    {
      "cell_type": "code",
      "execution_count": null,
      "metadata": {
        "colab": {
          "base_uri": "https://localhost:8080/"
        },
        "id": "EJbL-Ng2Nc92",
        "outputId": "0cd654dd-92e0-4b8b-e2d7-a2ca0b0df6ef"
      },
      "outputs": [
        {
          "output_type": "execute_result",
          "data": {
            "text/plain": [
              "(32, 128, 128, 3)"
            ]
          },
          "metadata": {},
          "execution_count": 85
        }
      ],
      "source": [
        "next(test_generator)[0].shape"
      ]
    },
    {
      "cell_type": "code",
      "execution_count": null,
      "metadata": {
        "colab": {
          "base_uri": "https://localhost:8080/"
        },
        "id": "BLRHge9yNcq5",
        "outputId": "a1517810-adb6-4a7b-b72a-604444659bde"
      },
      "outputs": [
        {
          "output_type": "execute_result",
          "data": {
            "text/plain": [
              "(32, 5)"
            ]
          },
          "metadata": {},
          "execution_count": 86
        }
      ],
      "source": [
        "next(test_generator)[1].shape"
      ]
    },
    {
      "cell_type": "code",
      "execution_count": null,
      "metadata": {
        "id": "cRkdM2VUlFl-"
      },
      "outputs": [],
      "source": [
        "import matplotlib.pyplot as plt"
      ]
    },
    {
      "cell_type": "code",
      "execution_count": null,
      "metadata": {
        "colab": {
          "base_uri": "https://localhost:8080/",
          "height": 835
        },
        "id": "2y-EnF6CVG3W",
        "outputId": "a5be2f2e-fe2f-4f4d-cff7-5239e408bef0"
      },
      "outputs": [
        {
          "output_type": "display_data",
          "data": {
            "text/plain": [
              "<Figure size 1000x1000 with 12 Axes>"
            ],
            "image/png": "[encoded data removed]"
          },
          "metadata": {}
        }
      ],
      "source": [
        "plt.figure(figsize = (10,10))\n",
        "for idx,each_batch in enumerate(train_generator,1):  # starting idx from 1\n",
        "  img = each_batch[0][0]\n",
        "  plt.subplot(4,3,idx) # here considering idx as position\n",
        "  plt.imshow(img)\n",
        "  if idx >= 12:\n",
        "    break"
      ]
    },
    {
      "cell_type": "markdown",
      "metadata": {
        "id": "siTPRiNOs7BN"
      },
      "source": [
        "### VGG16 Model Loading"
      ]
    },
    {
      "cell_type": "code",
      "execution_count": null,
      "metadata": {
        "id": "kwBETO5zIQ5W"
      },
      "outputs": [],
      "source": [
        "from tensorflow.keras.models import load_model\n",
        "\n",
        "# Specify the path to the uploaded .h5 file\n",
        "model_path = '/content/best_VGG16_model (1).h5'\n",
        "\n",
        "# Load the model\n",
        "vgg16_finetuned_model = load_model(model_path)"
      ]
    },
    {
      "cell_type": "code",
      "source": [
        "from sklearn.metrics import confusion_matrix, classification_report"
      ],
      "metadata": {
        "id": "Zemuh5KANWHZ"
      },
      "execution_count": null,
      "outputs": []
    },
    {
      "cell_type": "markdown",
      "source": [
        "### Evaluating VGG16 model on train data"
      ],
      "metadata": {
        "id": "Kby6CcsR5gN_"
      }
    },
    {
      "cell_type": "code",
      "source": [
        "# Evaluate the VGG-16 finetuned model on the train set\n",
        "vgg16_finetuned_train_result = vgg16_finetuned_model.evaluate(train_generator, steps=len(train_generator))\n",
        "\n",
        "train_true = train_generator.classes"
      ],
      "metadata": {
        "colab": {
          "base_uri": "https://localhost:8080/"
        },
        "id": "BBfmFAD42VCr",
        "outputId": "add1d147-46cf-4a89-dbdd-7ae1e0f9cd08"
      },
      "execution_count": null,
      "outputs": [
        {
          "output_type": "stream",
          "name": "stdout",
          "text": [
            "1899/1899 [==============================] - 12887s 7s/step - loss: 0.0647 - accuracy: 0.9768\n"
          ]
        }
      ]
    },
    {
      "cell_type": "code",
      "source": [
        "# Make predictions with the VGG-16 finetuned model -- for train data\n",
        "vgg16_finetuned_predictions = vgg16_finetuned_model.predict(train_generator, steps=len(train_generator))\n",
        "vgg16_finetuned_pred_labels = np.argmax(vgg16_finetuned_predictions, axis=1)"
      ],
      "metadata": {
        "colab": {
          "base_uri": "https://localhost:8080/"
        },
        "id": "C0rdvv3W2X1q",
        "outputId": "e54d2498-7277-4cb5-9e80-d19045f6939f"
      },
      "execution_count": null,
      "outputs": [
        {
          "output_type": "stream",
          "name": "stdout",
          "text": [
            "1899/1899 [==============================] - 12533s 7s/step\n"
          ]
        }
      ]
    },
    {
      "cell_type": "code",
      "execution_count": null,
      "metadata": {
        "id": "fR5v6OG92AbT",
        "colab": {
          "base_uri": "https://localhost:8080/"
        },
        "outputId": "c372d700-cffa-471f-c2f6-bc6e2c9bdd2e"
      },
      "outputs": [
        {
          "output_type": "stream",
          "name": "stdout",
          "text": [
            "\n",
            "\n",
            "Evaluation Results for test data -- VGG-16 Finetuned:\n",
            "Loss: 0.06473194062709808\n",
            "Accuracy: 0.9768230319023132\n",
            "\n",
            "Confusion matrix : \n",
            "\n",
            "[[2430 2411 2400 2549 2472]\n",
            " [2378 2295 2462 2450 2468]\n",
            " [2457 2247 2441 2519 2484]\n",
            " [2402 2218 2375 2582 2520]\n",
            " [2415 2334 2413 2562 2466]]\n",
            "\\Classification Report : \n",
            "\n",
            "              precision    recall  f1-score   support\n",
            "\n",
            "           0       0.20      0.20      0.20     12262\n",
            "           1       0.20      0.19      0.19     12053\n",
            "           2       0.20      0.20      0.20     12148\n",
            "           3       0.20      0.21      0.21     12097\n",
            "           4       0.20      0.20      0.20     12190\n",
            "\n",
            "    accuracy                           0.20     60750\n",
            "   macro avg       0.20      0.20      0.20     60750\n",
            "weighted avg       0.20      0.20      0.20     60750\n",
            "\n"
          ]
        }
      ],
      "source": [
        "# Confusion matrix for VGG-16 finetuned model -- for train data\n",
        "vgg16_finetuned_conf_matrix = confusion_matrix(train_true, vgg16_finetuned_pred_labels)\n",
        "\n",
        "# Classification report for VGG-16 finetuned model -- for train data\n",
        "vgg16_finetuned_class_report = classification_report(train_true, vgg16_finetuned_pred_labels)\n",
        "\n",
        "# Print evaluation results for VGG-16 finetuned model -- for train data\n",
        "print(\"\\n\\nEvaluation Results for test data -- VGG-16 Finetuned:\")\n",
        "print(\"Loss:\", vgg16_finetuned_train_result[0])\n",
        "print(\"Accuracy:\", vgg16_finetuned_train_result[1])\n",
        "\n",
        "print(\"\\nConfusion matrix : \\n\")\n",
        "print(vgg16_finetuned_conf_matrix)\n",
        "\n",
        "print(\"\\Classification Report : \\n\")\n",
        "print(vgg16_finetuned_class_report)"
      ]
    },
    {
      "cell_type": "markdown",
      "source": [
        "### Evaluating VGG16 model on validation data"
      ],
      "metadata": {
        "id": "tXUwiVSa5nE6"
      }
    },
    {
      "cell_type": "code",
      "execution_count": null,
      "metadata": {
        "id": "hIa5Ts5P1pAb",
        "colab": {
          "base_uri": "https://localhost:8080/"
        },
        "outputId": "053eb41f-170e-40d3-b070-bee103aa916c"
      },
      "outputs": [
        {
          "output_type": "stream",
          "name": "stdout",
          "text": [
            "211/211 [==============================] - 1415s 7s/step - loss: 0.0418 - accuracy: 0.9859\n",
            "211/211 [==============================] - 1403s 7s/step\n",
            "\n",
            "\n",
            "Evaluation Results for test data -- VGG-16 Finetuned:\n",
            "Loss: 0.041809871792793274\n",
            "Accuracy: 0.9859259128570557\n",
            "\n",
            "Confusion matrix : \n",
            "\n",
            "[[245 258 235 270 251]\n",
            " [268 283 294 286 291]\n",
            " [233 286 263 306 235]\n",
            " [274 296 253 264 313]\n",
            " [264 250 278 308 246]]\n",
            "\\Classification Report : \n",
            "\n",
            "              precision    recall  f1-score   support\n",
            "\n",
            "           0       0.19      0.19      0.19      1259\n",
            "           1       0.21      0.20      0.20      1422\n",
            "           2       0.20      0.20      0.20      1323\n",
            "           3       0.18      0.19      0.19      1400\n",
            "           4       0.18      0.18      0.18      1346\n",
            "\n",
            "    accuracy                           0.19      6750\n",
            "   macro avg       0.19      0.19      0.19      6750\n",
            "weighted avg       0.19      0.19      0.19      6750\n",
            "\n"
          ]
        }
      ],
      "source": [
        "# Evaluate the VGG-16 finetuned model on the validation set\n",
        "vgg16_finetuned_val_result = vgg16_finetuned_model.evaluate(val_generator, steps=len(val_generator))\n",
        "\n",
        "val_true = val_generator.classes\n",
        "\n",
        "# Make predictions with the VGG-16 finetuned model -- for validation data\n",
        "vgg16_finetuned_predictions = vgg16_finetuned_model.predict(val_generator, steps=len(val_generator))\n",
        "vgg16_finetuned_pred_labels = np.argmax(vgg16_finetuned_predictions, axis=1)\n",
        "\n",
        "# Confusion matrix for VGG-16 finetuned model -- for validation data\n",
        "vgg16_finetuned_conf_matrix = confusion_matrix(val_true, vgg16_finetuned_pred_labels)\n",
        "\n",
        "# Classification report for VGG-16 finetuned model -- for validation data\n",
        "vgg16_finetuned_class_report = classification_report(val_true, vgg16_finetuned_pred_labels)\n",
        "\n",
        "# Print evaluation results for VGG-16 finetuned model -- for validation data\n",
        "print(\"\\n\\nEvaluation Results for test data -- VGG-16 Finetuned:\")\n",
        "print(\"Loss:\", vgg16_finetuned_val_result[0])\n",
        "print(\"Accuracy:\", vgg16_finetuned_val_result[1])\n",
        "\n",
        "print(\"\\nConfusion matrix : \\n\")\n",
        "print(vgg16_finetuned_conf_matrix)\n",
        "\n",
        "print(\"\\Classification Report : \\n\")\n",
        "print(vgg16_finetuned_class_report)"
      ]
    },
    {
      "cell_type": "markdown",
      "source": [
        "### Evaluating VGG16 model on test data"
      ],
      "metadata": {
        "id": "TO6c8_cW5vAe"
      }
    },
    {
      "cell_type": "code",
      "execution_count": null,
      "metadata": {
        "id": "6wiqa6WPt2lR",
        "colab": {
          "base_uri": "https://localhost:8080/"
        },
        "outputId": "6c03fdb2-a2d2-485e-daff-9de2788982c9"
      },
      "outputs": [
        {
          "output_type": "stream",
          "name": "stdout",
          "text": [
            "211/211 [==============================] - 1410s 7s/step - loss: 0.0418 - accuracy: 0.9859\n",
            "211/211 [==============================] - 1421s 7s/step\n",
            "\n",
            "\n",
            "Evaluation Results for test data -- VGG-16 Finetuned:\n",
            "Loss: 0.041809868067502975\n",
            "Accuracy: 0.9859259128570557\n",
            "\n",
            "Confusion matrix : \n",
            "\n",
            "[[234 246 261 268 250]\n",
            " [268 280 287 297 290]\n",
            " [252 291 271 271 238]\n",
            " [274 301 247 310 268]\n",
            " [256 255 257 288 290]]\n",
            "\\Classification Report : \n",
            "\n",
            "              precision    recall  f1-score   support\n",
            "\n",
            "           0       0.18      0.19      0.18      1259\n",
            "           1       0.20      0.20      0.20      1422\n",
            "           2       0.20      0.20      0.20      1323\n",
            "           3       0.22      0.22      0.22      1400\n",
            "           4       0.22      0.22      0.22      1346\n",
            "\n",
            "    accuracy                           0.21      6750\n",
            "   macro avg       0.20      0.20      0.20      6750\n",
            "weighted avg       0.21      0.21      0.21      6750\n",
            "\n"
          ]
        }
      ],
      "source": [
        "# Evaluate the VGG-16 finetuned model on the test set\n",
        "vgg16_finetuned_test_result = vgg16_finetuned_model.evaluate(test_generator, steps=len(test_generator))\n",
        "\n",
        "test_true = test_generator.classes\n",
        "\n",
        "# Make predictions with the VGG-16 finetuned model -- for test data\n",
        "vgg16_finetuned_predictions = vgg16_finetuned_model.predict(test_generator, steps=len(test_generator))\n",
        "vgg16_finetuned_pred_labels = np.argmax(vgg16_finetuned_predictions, axis=1)\n",
        "\n",
        "# Confusion matrix for VGG-16 finetuned model -- for test data\n",
        "vgg16_finetuned_conf_matrix = confusion_matrix(test_true, vgg16_finetuned_pred_labels)\n",
        "\n",
        "# Classification report for VGG-16 finetuned model -- for test data\n",
        "vgg16_finetuned_class_report = classification_report(test_true, vgg16_finetuned_pred_labels)\n",
        "\n",
        "# Print evaluation results for VGG-16 finetuned model -- for test data\n",
        "print(\"\\n\\nEvaluation Results for test data -- VGG-16 Finetuned:\")\n",
        "print(\"Loss:\", vgg16_finetuned_test_result[0])\n",
        "print(\"Accuracy:\", vgg16_finetuned_test_result[1])\n",
        "\n",
        "print(\"\\nConfusion matrix : \\n\")\n",
        "print(vgg16_finetuned_conf_matrix)\n",
        "\n",
        "print(\"\\Classification Report : \\n\")\n",
        "print(vgg16_finetuned_class_report)"
      ]
    }
  ]
}